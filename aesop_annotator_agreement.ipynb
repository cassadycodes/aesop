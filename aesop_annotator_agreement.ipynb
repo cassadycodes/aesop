{
  "nbformat": 4,
  "nbformat_minor": 0,
  "metadata": {
    "colab": {
      "provenance": [],
      "collapsed_sections": [
        "WOKAihtw6amr",
        "VAaM6BZ-9Ac9"
      ]
    },
    "kernelspec": {
      "name": "python3",
      "display_name": "Python 3"
    },
    "language_info": {
      "name": "python"
    }
  },
  "cells": [
    {
      "cell_type": "code",
      "execution_count": null,
      "metadata": {
        "colab": {
          "base_uri": "https://localhost:8080/"
        },
        "id": "RPe2y6nVv5H9",
        "outputId": "84756d33-f1c2-414d-df66-02cc33fd75b3"
      },
      "outputs": [
        {
          "output_type": "stream",
          "name": "stdout",
          "text": [
            "Mounted at /content/drive\n"
          ]
        }
      ],
      "source": [
        "from google.colab import drive\n",
        "drive.mount('/content/drive', force_remount=True)\n",
        "dir = 'drive/MyDrive'"
      ]
    },
    {
      "cell_type": "code",
      "source": [
        "import pandas as pd\n",
        "a1 = pd.read_csv(f'{dir}/aesop_gptj_annotate_JThomas.csv', index_col=0)\n",
        "a2 = pd.read_csv(f'{dir}/aesop_gptj_annotate_NHankins.csv', index_col=0)\n",
        "a3 = pd.read_csv(f'{dir}/aesop_gptj_annotate_ZSchultz.csv', index_col=0)"
      ],
      "metadata": {
        "id": "ndLbW1BAxemc"
      },
      "execution_count": null,
      "outputs": []
    },
    {
      "cell_type": "code",
      "source": [
        "a1.head(10)"
      ],
      "metadata": {
        "colab": {
          "base_uri": "https://localhost:8080/",
          "height": 363
        },
        "id": "P7oQcxTYWPj6",
        "outputId": "0b81ae1b-550d-491b-9001-36bfd0b4c575"
      },
      "execution_count": null,
      "outputs": [
        {
          "output_type": "execute_result",
          "data": {
            "text/plain": [
              "                                               story  \\\n",
              "0  There was once a little Kid whose growing horn...   \n",
              "1  The Tortoise, you know, carries his house on h...   \n",
              "2  Why in the world do you walk sideways like tha...   \n",
              "3  An Ox came down to a reedy pool to drink. As h...   \n",
              "4  A Dog and a Cock, who were the best of friends...   \n",
              "5  The Mice once called a meeting to decide on a ...   \n",
              "6  An Eagle, swooping down on powerful wings, sei...   \n",
              "7  A Boy was given permission to put his hand int...   \n",
              "8  A Farmer was driving his wagon along a miry co...   \n",
              "9  A frisky young Kid had been left by the herdsm...   \n",
              "\n",
              "                                              moral1  \\\n",
              "0    Do not let anything turn you from your purpose.   \n",
              "1  Foolish curiosity and vanity often lead to mis...   \n",
              "2  Do not tell others how to act unless you can s...   \n",
              "3                     Do not attempt the impossible.   \n",
              "4  Those who try to deceive may expect to be paid...   \n",
              "5  It is one thing to say that something should b...   \n",
              "6  Do not let your vanity make you overestimate y...   \n",
              "7                   Do not attempt too much at once.   \n",
              "8                        Self help is the best help.   \n",
              "9  Do not say anything at any time that you would...   \n",
              "\n",
              "                                              moral2 match_moral match_story  \n",
              "0              A fool and his money are soon parted.         Yes         NaN  \n",
              "1                  The best of friends may disagree.          No          No  \n",
              "2                 \"How to walk\" is a great mystery.           No         Yes  \n",
              "3                           Do not puff yourself up.         Yes         NaN  \n",
              "4  Do not trust a fox who has a good breakfast in...          No         Yes  \n",
              "5     Don't be too hasty in your judgment of others.          No          No  \n",
              "6    Do not boast of your own strength or abilities.         Yes         NaN  \n",
              "7    Do not be a greedy child, but a satisfied one.          Yes         NaN  \n",
              "8            When you are in trouble, do something.          Yes         NaN  \n",
              "9               Do not be too quick to take offence.          No         Yes  "
            ],
            "text/html": [
              "\n",
              "  <div id=\"df-b1524ba8-91dd-43eb-acf5-0970b9f1d74c\">\n",
              "    <div class=\"colab-df-container\">\n",
              "      <div>\n",
              "<style scoped>\n",
              "    .dataframe tbody tr th:only-of-type {\n",
              "        vertical-align: middle;\n",
              "    }\n",
              "\n",
              "    .dataframe tbody tr th {\n",
              "        vertical-align: top;\n",
              "    }\n",
              "\n",
              "    .dataframe thead th {\n",
              "        text-align: right;\n",
              "    }\n",
              "</style>\n",
              "<table border=\"1\" class=\"dataframe\">\n",
              "  <thead>\n",
              "    <tr style=\"text-align: right;\">\n",
              "      <th></th>\n",
              "      <th>story</th>\n",
              "      <th>moral1</th>\n",
              "      <th>moral2</th>\n",
              "      <th>match_moral</th>\n",
              "      <th>match_story</th>\n",
              "    </tr>\n",
              "  </thead>\n",
              "  <tbody>\n",
              "    <tr>\n",
              "      <th>0</th>\n",
              "      <td>There was once a little Kid whose growing horn...</td>\n",
              "      <td>Do not let anything turn you from your purpose.</td>\n",
              "      <td>A fool and his money are soon parted.</td>\n",
              "      <td>Yes</td>\n",
              "      <td>NaN</td>\n",
              "    </tr>\n",
              "    <tr>\n",
              "      <th>1</th>\n",
              "      <td>The Tortoise, you know, carries his house on h...</td>\n",
              "      <td>Foolish curiosity and vanity often lead to mis...</td>\n",
              "      <td>The best of friends may disagree.</td>\n",
              "      <td>No</td>\n",
              "      <td>No</td>\n",
              "    </tr>\n",
              "    <tr>\n",
              "      <th>2</th>\n",
              "      <td>Why in the world do you walk sideways like tha...</td>\n",
              "      <td>Do not tell others how to act unless you can s...</td>\n",
              "      <td>\"How to walk\" is a great mystery.</td>\n",
              "      <td>No</td>\n",
              "      <td>Yes</td>\n",
              "    </tr>\n",
              "    <tr>\n",
              "      <th>3</th>\n",
              "      <td>An Ox came down to a reedy pool to drink. As h...</td>\n",
              "      <td>Do not attempt the impossible.</td>\n",
              "      <td>Do not puff yourself up.</td>\n",
              "      <td>Yes</td>\n",
              "      <td>NaN</td>\n",
              "    </tr>\n",
              "    <tr>\n",
              "      <th>4</th>\n",
              "      <td>A Dog and a Cock, who were the best of friends...</td>\n",
              "      <td>Those who try to deceive may expect to be paid...</td>\n",
              "      <td>Do not trust a fox who has a good breakfast in...</td>\n",
              "      <td>No</td>\n",
              "      <td>Yes</td>\n",
              "    </tr>\n",
              "    <tr>\n",
              "      <th>5</th>\n",
              "      <td>The Mice once called a meeting to decide on a ...</td>\n",
              "      <td>It is one thing to say that something should b...</td>\n",
              "      <td>Don't be too hasty in your judgment of others.</td>\n",
              "      <td>No</td>\n",
              "      <td>No</td>\n",
              "    </tr>\n",
              "    <tr>\n",
              "      <th>6</th>\n",
              "      <td>An Eagle, swooping down on powerful wings, sei...</td>\n",
              "      <td>Do not let your vanity make you overestimate y...</td>\n",
              "      <td>Do not boast of your own strength or abilities.</td>\n",
              "      <td>Yes</td>\n",
              "      <td>NaN</td>\n",
              "    </tr>\n",
              "    <tr>\n",
              "      <th>7</th>\n",
              "      <td>A Boy was given permission to put his hand int...</td>\n",
              "      <td>Do not attempt too much at once.</td>\n",
              "      <td>Do not be a greedy child, but a satisfied one.</td>\n",
              "      <td>Yes</td>\n",
              "      <td>NaN</td>\n",
              "    </tr>\n",
              "    <tr>\n",
              "      <th>8</th>\n",
              "      <td>A Farmer was driving his wagon along a miry co...</td>\n",
              "      <td>Self help is the best help.</td>\n",
              "      <td>When you are in trouble, do something.</td>\n",
              "      <td>Yes</td>\n",
              "      <td>NaN</td>\n",
              "    </tr>\n",
              "    <tr>\n",
              "      <th>9</th>\n",
              "      <td>A frisky young Kid had been left by the herdsm...</td>\n",
              "      <td>Do not say anything at any time that you would...</td>\n",
              "      <td>Do not be too quick to take offence.</td>\n",
              "      <td>No</td>\n",
              "      <td>Yes</td>\n",
              "    </tr>\n",
              "  </tbody>\n",
              "</table>\n",
              "</div>\n",
              "      <button class=\"colab-df-convert\" onclick=\"convertToInteractive('df-b1524ba8-91dd-43eb-acf5-0970b9f1d74c')\"\n",
              "              title=\"Convert this dataframe to an interactive table.\"\n",
              "              style=\"display:none;\">\n",
              "        \n",
              "  <svg xmlns=\"http://www.w3.org/2000/svg\" height=\"24px\"viewBox=\"0 0 24 24\"\n",
              "       width=\"24px\">\n",
              "    <path d=\"M0 0h24v24H0V0z\" fill=\"none\"/>\n",
              "    <path d=\"M18.56 5.44l.94 2.06.94-2.06 2.06-.94-2.06-.94-.94-2.06-.94 2.06-2.06.94zm-11 1L8.5 8.5l.94-2.06 2.06-.94-2.06-.94L8.5 2.5l-.94 2.06-2.06.94zm10 10l.94 2.06.94-2.06 2.06-.94-2.06-.94-.94-2.06-.94 2.06-2.06.94z\"/><path d=\"M17.41 7.96l-1.37-1.37c-.4-.4-.92-.59-1.43-.59-.52 0-1.04.2-1.43.59L10.3 9.45l-7.72 7.72c-.78.78-.78 2.05 0 2.83L4 21.41c.39.39.9.59 1.41.59.51 0 1.02-.2 1.41-.59l7.78-7.78 2.81-2.81c.8-.78.8-2.07 0-2.86zM5.41 20L4 18.59l7.72-7.72 1.47 1.35L5.41 20z\"/>\n",
              "  </svg>\n",
              "      </button>\n",
              "      \n",
              "  <style>\n",
              "    .colab-df-container {\n",
              "      display:flex;\n",
              "      flex-wrap:wrap;\n",
              "      gap: 12px;\n",
              "    }\n",
              "\n",
              "    .colab-df-convert {\n",
              "      background-color: #E8F0FE;\n",
              "      border: none;\n",
              "      border-radius: 50%;\n",
              "      cursor: pointer;\n",
              "      display: none;\n",
              "      fill: #1967D2;\n",
              "      height: 32px;\n",
              "      padding: 0 0 0 0;\n",
              "      width: 32px;\n",
              "    }\n",
              "\n",
              "    .colab-df-convert:hover {\n",
              "      background-color: #E2EBFA;\n",
              "      box-shadow: 0px 1px 2px rgba(60, 64, 67, 0.3), 0px 1px 3px 1px rgba(60, 64, 67, 0.15);\n",
              "      fill: #174EA6;\n",
              "    }\n",
              "\n",
              "    [theme=dark] .colab-df-convert {\n",
              "      background-color: #3B4455;\n",
              "      fill: #D2E3FC;\n",
              "    }\n",
              "\n",
              "    [theme=dark] .colab-df-convert:hover {\n",
              "      background-color: #434B5C;\n",
              "      box-shadow: 0px 1px 3px 1px rgba(0, 0, 0, 0.15);\n",
              "      filter: drop-shadow(0px 1px 2px rgba(0, 0, 0, 0.3));\n",
              "      fill: #FFFFFF;\n",
              "    }\n",
              "  </style>\n",
              "\n",
              "      <script>\n",
              "        const buttonEl =\n",
              "          document.querySelector('#df-b1524ba8-91dd-43eb-acf5-0970b9f1d74c button.colab-df-convert');\n",
              "        buttonEl.style.display =\n",
              "          google.colab.kernel.accessAllowed ? 'block' : 'none';\n",
              "\n",
              "        async function convertToInteractive(key) {\n",
              "          const element = document.querySelector('#df-b1524ba8-91dd-43eb-acf5-0970b9f1d74c');\n",
              "          const dataTable =\n",
              "            await google.colab.kernel.invokeFunction('convertToInteractive',\n",
              "                                                     [key], {});\n",
              "          if (!dataTable) return;\n",
              "\n",
              "          const docLinkHtml = 'Like what you see? Visit the ' +\n",
              "            '<a target=\"_blank\" href=https://colab.research.google.com/notebooks/data_table.ipynb>data table notebook</a>'\n",
              "            + ' to learn more about interactive tables.';\n",
              "          element.innerHTML = '';\n",
              "          dataTable['output_type'] = 'display_data';\n",
              "          await google.colab.output.renderOutput(dataTable, element);\n",
              "          const docLink = document.createElement('div');\n",
              "          docLink.innerHTML = docLinkHtml;\n",
              "          element.appendChild(docLink);\n",
              "        }\n",
              "      </script>\n",
              "    </div>\n",
              "  </div>\n",
              "  "
            ]
          },
          "metadata": {},
          "execution_count": 7
        }
      ]
    },
    {
      "cell_type": "code",
      "source": [
        "q1_r1 = a1['match_moral']\n",
        "q1_r2 = a2['match_moral']\n",
        "q1_r3 = a3['match_moral']"
      ],
      "metadata": {
        "id": "U_Ifn3zZzYR_"
      },
      "execution_count": null,
      "outputs": []
    },
    {
      "cell_type": "markdown",
      "source": [
        "## Exact Agreement Between Three Annotators"
      ],
      "metadata": {
        "id": "LoKt0hgO8uhf"
      }
    },
    {
      "cell_type": "code",
      "source": [
        "def exact_agreement(r1, r2, r3):\n",
        "    num_agreements = 0\n",
        "    num_ratings = len(r1)\n",
        "    for i in range(num_ratings):\n",
        "        if r1[i] == r2[i] == r3[i]:\n",
        "            num_agreements += 1\n",
        "    result = num_agreements / num_ratings\n",
        "    return result, f\"{round(result*100)}% exact agreement\""
      ],
      "metadata": {
        "id": "lT_lA5AaxY73"
      },
      "execution_count": null,
      "outputs": []
    },
    {
      "cell_type": "markdown",
      "source": [
        "Question 1\n",
        "\n",
        "> Please compare moral1 and moral2, then answer the following question:\n",
        "\n",
        "> Do moral1 and moral2 express more-or-less the same meaning?\n"
      ],
      "metadata": {
        "id": "kz90XdR778wK"
      }
    },
    {
      "cell_type": "code",
      "source": [
        "exact_agreement(q1_r1, q1_r2, q1_r3)"
      ],
      "metadata": {
        "colab": {
          "base_uri": "https://localhost:8080/"
        },
        "id": "ugbLg0Jzzrw6",
        "outputId": "97ae26e8-54cc-4492-8b26-38822b462f69"
      },
      "execution_count": null,
      "outputs": [
        {
          "output_type": "execute_result",
          "data": {
            "text/plain": [
              "(0.6394557823129252, '64% exact agreement')"
            ]
          },
          "metadata": {},
          "execution_count": 7
        }
      ]
    },
    {
      "cell_type": "code",
      "source": [
        "q2_r1 = a1['match_story'].fillna('Yes')\n",
        "q2_r2 = a2['match_story'].fillna('Yes')\n",
        "q2_r3 = a3['match_story'].fillna('Yes')"
      ],
      "metadata": {
        "id": "n1hkJVp5z4Zb"
      },
      "execution_count": null,
      "outputs": []
    },
    {
      "cell_type": "markdown",
      "source": [
        "Question 2 *(if answered No to Q1*)\n",
        "\n",
        "> Please read the corresponding story, then answer:\n",
        "\n",
        "> Does moral2 make sense with the context?    "
      ],
      "metadata": {
        "id": "_YfdsU4p8GD-"
      }
    },
    {
      "cell_type": "code",
      "source": [
        "exact_agreement(q2_r1, q2_r2, q2_r3)"
      ],
      "metadata": {
        "colab": {
          "base_uri": "https://localhost:8080/"
        },
        "id": "iyG52BUY0NRu",
        "outputId": "494bdf69-8f40-44da-e492-032aca49b940"
      },
      "execution_count": null,
      "outputs": [
        {
          "output_type": "execute_result",
          "data": {
            "text/plain": [
              "(0.4217687074829932, '42% exact agreement')"
            ]
          },
          "metadata": {},
          "execution_count": 13
        }
      ]
    },
    {
      "cell_type": "code",
      "source": [
        "# made a combined file before continuing to kappa\n",
        "import pandas as pd\n",
        "all = pd.read_csv(f'{dir}/aesop_gptj_3annotators.csv')"
      ],
      "metadata": {
        "id": "p0oAJXeI1mQ3"
      },
      "execution_count": null,
      "outputs": []
    },
    {
      "cell_type": "code",
      "source": [
        "all.head()"
      ],
      "metadata": {
        "colab": {
          "base_uri": "https://localhost:8080/",
          "height": 354
        },
        "id": "lruPjvoa5MJp",
        "outputId": "59d77d08-6afe-4770-a823-4bb449e63edc"
      },
      "execution_count": null,
      "outputs": [
        {
          "output_type": "execute_result",
          "data": {
            "text/plain": [
              "   Unnamed: 0                                              story  \\\n",
              "0           0  There was once a little Kid whose growing horn...   \n",
              "1           1  The Tortoise, you know, carries his house on h...   \n",
              "2           2  Why in the world do you walk sideways like tha...   \n",
              "3           3  An Ox came down to a reedy pool to drink. As h...   \n",
              "4           4  A Dog and a Cock, who were the best of friends...   \n",
              "\n",
              "                                            original  \\\n",
              "0    Do not let anything turn you from your purpose.   \n",
              "1  Foolish curiosity and vanity often lead to mis...   \n",
              "2  Do not tell others how to act unless you can s...   \n",
              "3                     Do not attempt the impossible.   \n",
              "4  Those who try to deceive may expect to be paid...   \n",
              "\n",
              "                                           generated a1_match_moral  \\\n",
              "0              A fool and his money are soon parted.            Yes   \n",
              "1                  The best of friends may disagree.             No   \n",
              "2                 \"How to walk\" is a great mystery.              No   \n",
              "3                           Do not puff yourself up.            Yes   \n",
              "4  Do not trust a fox who has a good breakfast in...             No   \n",
              "\n",
              "  a1_match_story a2_match_moral a2_match_story a3_match_moral a3_match_story  \n",
              "0            NaN             No             No             No             No  \n",
              "1             No             No             No             No             No  \n",
              "2            Yes             No             No             No             No  \n",
              "3            NaN             No             No             No            Yes  \n",
              "4            Yes             No             No             No            Yes  "
            ],
            "text/html": [
              "\n",
              "  <div id=\"df-753b01f0-b5ad-4041-b72e-ea75b5ce2e6f\">\n",
              "    <div class=\"colab-df-container\">\n",
              "      <div>\n",
              "<style scoped>\n",
              "    .dataframe tbody tr th:only-of-type {\n",
              "        vertical-align: middle;\n",
              "    }\n",
              "\n",
              "    .dataframe tbody tr th {\n",
              "        vertical-align: top;\n",
              "    }\n",
              "\n",
              "    .dataframe thead th {\n",
              "        text-align: right;\n",
              "    }\n",
              "</style>\n",
              "<table border=\"1\" class=\"dataframe\">\n",
              "  <thead>\n",
              "    <tr style=\"text-align: right;\">\n",
              "      <th></th>\n",
              "      <th>Unnamed: 0</th>\n",
              "      <th>story</th>\n",
              "      <th>original</th>\n",
              "      <th>generated</th>\n",
              "      <th>a1_match_moral</th>\n",
              "      <th>a1_match_story</th>\n",
              "      <th>a2_match_moral</th>\n",
              "      <th>a2_match_story</th>\n",
              "      <th>a3_match_moral</th>\n",
              "      <th>a3_match_story</th>\n",
              "    </tr>\n",
              "  </thead>\n",
              "  <tbody>\n",
              "    <tr>\n",
              "      <th>0</th>\n",
              "      <td>0</td>\n",
              "      <td>There was once a little Kid whose growing horn...</td>\n",
              "      <td>Do not let anything turn you from your purpose.</td>\n",
              "      <td>A fool and his money are soon parted.</td>\n",
              "      <td>Yes</td>\n",
              "      <td>NaN</td>\n",
              "      <td>No</td>\n",
              "      <td>No</td>\n",
              "      <td>No</td>\n",
              "      <td>No</td>\n",
              "    </tr>\n",
              "    <tr>\n",
              "      <th>1</th>\n",
              "      <td>1</td>\n",
              "      <td>The Tortoise, you know, carries his house on h...</td>\n",
              "      <td>Foolish curiosity and vanity often lead to mis...</td>\n",
              "      <td>The best of friends may disagree.</td>\n",
              "      <td>No</td>\n",
              "      <td>No</td>\n",
              "      <td>No</td>\n",
              "      <td>No</td>\n",
              "      <td>No</td>\n",
              "      <td>No</td>\n",
              "    </tr>\n",
              "    <tr>\n",
              "      <th>2</th>\n",
              "      <td>2</td>\n",
              "      <td>Why in the world do you walk sideways like tha...</td>\n",
              "      <td>Do not tell others how to act unless you can s...</td>\n",
              "      <td>\"How to walk\" is a great mystery.</td>\n",
              "      <td>No</td>\n",
              "      <td>Yes</td>\n",
              "      <td>No</td>\n",
              "      <td>No</td>\n",
              "      <td>No</td>\n",
              "      <td>No</td>\n",
              "    </tr>\n",
              "    <tr>\n",
              "      <th>3</th>\n",
              "      <td>3</td>\n",
              "      <td>An Ox came down to a reedy pool to drink. As h...</td>\n",
              "      <td>Do not attempt the impossible.</td>\n",
              "      <td>Do not puff yourself up.</td>\n",
              "      <td>Yes</td>\n",
              "      <td>NaN</td>\n",
              "      <td>No</td>\n",
              "      <td>No</td>\n",
              "      <td>No</td>\n",
              "      <td>Yes</td>\n",
              "    </tr>\n",
              "    <tr>\n",
              "      <th>4</th>\n",
              "      <td>4</td>\n",
              "      <td>A Dog and a Cock, who were the best of friends...</td>\n",
              "      <td>Those who try to deceive may expect to be paid...</td>\n",
              "      <td>Do not trust a fox who has a good breakfast in...</td>\n",
              "      <td>No</td>\n",
              "      <td>Yes</td>\n",
              "      <td>No</td>\n",
              "      <td>No</td>\n",
              "      <td>No</td>\n",
              "      <td>Yes</td>\n",
              "    </tr>\n",
              "  </tbody>\n",
              "</table>\n",
              "</div>\n",
              "      <button class=\"colab-df-convert\" onclick=\"convertToInteractive('df-753b01f0-b5ad-4041-b72e-ea75b5ce2e6f')\"\n",
              "              title=\"Convert this dataframe to an interactive table.\"\n",
              "              style=\"display:none;\">\n",
              "        \n",
              "  <svg xmlns=\"http://www.w3.org/2000/svg\" height=\"24px\"viewBox=\"0 0 24 24\"\n",
              "       width=\"24px\">\n",
              "    <path d=\"M0 0h24v24H0V0z\" fill=\"none\"/>\n",
              "    <path d=\"M18.56 5.44l.94 2.06.94-2.06 2.06-.94-2.06-.94-.94-2.06-.94 2.06-2.06.94zm-11 1L8.5 8.5l.94-2.06 2.06-.94-2.06-.94L8.5 2.5l-.94 2.06-2.06.94zm10 10l.94 2.06.94-2.06 2.06-.94-2.06-.94-.94-2.06-.94 2.06-2.06.94z\"/><path d=\"M17.41 7.96l-1.37-1.37c-.4-.4-.92-.59-1.43-.59-.52 0-1.04.2-1.43.59L10.3 9.45l-7.72 7.72c-.78.78-.78 2.05 0 2.83L4 21.41c.39.39.9.59 1.41.59.51 0 1.02-.2 1.41-.59l7.78-7.78 2.81-2.81c.8-.78.8-2.07 0-2.86zM5.41 20L4 18.59l7.72-7.72 1.47 1.35L5.41 20z\"/>\n",
              "  </svg>\n",
              "      </button>\n",
              "      \n",
              "  <style>\n",
              "    .colab-df-container {\n",
              "      display:flex;\n",
              "      flex-wrap:wrap;\n",
              "      gap: 12px;\n",
              "    }\n",
              "\n",
              "    .colab-df-convert {\n",
              "      background-color: #E8F0FE;\n",
              "      border: none;\n",
              "      border-radius: 50%;\n",
              "      cursor: pointer;\n",
              "      display: none;\n",
              "      fill: #1967D2;\n",
              "      height: 32px;\n",
              "      padding: 0 0 0 0;\n",
              "      width: 32px;\n",
              "    }\n",
              "\n",
              "    .colab-df-convert:hover {\n",
              "      background-color: #E2EBFA;\n",
              "      box-shadow: 0px 1px 2px rgba(60, 64, 67, 0.3), 0px 1px 3px 1px rgba(60, 64, 67, 0.15);\n",
              "      fill: #174EA6;\n",
              "    }\n",
              "\n",
              "    [theme=dark] .colab-df-convert {\n",
              "      background-color: #3B4455;\n",
              "      fill: #D2E3FC;\n",
              "    }\n",
              "\n",
              "    [theme=dark] .colab-df-convert:hover {\n",
              "      background-color: #434B5C;\n",
              "      box-shadow: 0px 1px 3px 1px rgba(0, 0, 0, 0.15);\n",
              "      filter: drop-shadow(0px 1px 2px rgba(0, 0, 0, 0.3));\n",
              "      fill: #FFFFFF;\n",
              "    }\n",
              "  </style>\n",
              "\n",
              "      <script>\n",
              "        const buttonEl =\n",
              "          document.querySelector('#df-753b01f0-b5ad-4041-b72e-ea75b5ce2e6f button.colab-df-convert');\n",
              "        buttonEl.style.display =\n",
              "          google.colab.kernel.accessAllowed ? 'block' : 'none';\n",
              "\n",
              "        async function convertToInteractive(key) {\n",
              "          const element = document.querySelector('#df-753b01f0-b5ad-4041-b72e-ea75b5ce2e6f');\n",
              "          const dataTable =\n",
              "            await google.colab.kernel.invokeFunction('convertToInteractive',\n",
              "                                                     [key], {});\n",
              "          if (!dataTable) return;\n",
              "\n",
              "          const docLinkHtml = 'Like what you see? Visit the ' +\n",
              "            '<a target=\"_blank\" href=https://colab.research.google.com/notebooks/data_table.ipynb>data table notebook</a>'\n",
              "            + ' to learn more about interactive tables.';\n",
              "          element.innerHTML = '';\n",
              "          dataTable['output_type'] = 'display_data';\n",
              "          await google.colab.output.renderOutput(dataTable, element);\n",
              "          const docLink = document.createElement('div');\n",
              "          docLink.innerHTML = docLinkHtml;\n",
              "          element.appendChild(docLink);\n",
              "        }\n",
              "      </script>\n",
              "    </div>\n",
              "  </div>\n",
              "  "
            ]
          },
          "metadata": {},
          "execution_count": 32
        }
      ]
    },
    {
      "cell_type": "code",
      "source": [
        "len(all) # verifying expected 147 entries exists"
      ],
      "metadata": {
        "colab": {
          "base_uri": "https://localhost:8080/"
        },
        "id": "UOFaNeRc5Kdp",
        "outputId": "dacf6a38-7a76-4d52-c399-5d5efaf18e60"
      },
      "execution_count": null,
      "outputs": [
        {
          "output_type": "execute_result",
          "data": {
            "text/plain": [
              "147"
            ]
          },
          "metadata": {},
          "execution_count": 31
        }
      ]
    },
    {
      "cell_type": "code",
      "source": [
        "all = all.fillna('Yes') # null answers to Q2 are considered 'Yes' (=generated moral matches context story)"
      ],
      "metadata": {
        "id": "sybgz-db5LVQ"
      },
      "execution_count": null,
      "outputs": []
    },
    {
      "cell_type": "code",
      "source": [
        "# verifying same conclusions as above are reached despite format change\n",
        "exact_agreement(all['a1_match_moral'], all['a2_match_moral'], all['a3_match_moral'])"
      ],
      "metadata": {
        "colab": {
          "base_uri": "https://localhost:8080/"
        },
        "id": "eYZ_nt4-5Vh-",
        "outputId": "faa0324f-3b2a-405c-ea27-ddc167e5d91a"
      },
      "execution_count": null,
      "outputs": [
        {
          "output_type": "execute_result",
          "data": {
            "text/plain": [
              "(0.6394557823129252, '64% exact agreement')"
            ]
          },
          "metadata": {},
          "execution_count": 35
        }
      ]
    },
    {
      "cell_type": "code",
      "source": [
        "exact_agreement(all['a1_match_story'], all['a2_match_story'], all['a3_match_story'])"
      ],
      "metadata": {
        "colab": {
          "base_uri": "https://localhost:8080/"
        },
        "id": "KADD7gJN5vDp",
        "outputId": "26dbe652-710f-4f19-a3d6-d5dc9cce6817"
      },
      "execution_count": null,
      "outputs": [
        {
          "output_type": "execute_result",
          "data": {
            "text/plain": [
              "(0.4217687074829932, '42% exact agreement')"
            ]
          },
          "metadata": {},
          "execution_count": 36
        }
      ]
    },
    {
      "cell_type": "markdown",
      "source": [
        "## Confusion Matrices"
      ],
      "metadata": {
        "id": "rKbwdOY6rGiH"
      }
    },
    {
      "cell_type": "code",
      "source": [
        "from sklearn.metrics import confusion_matrix, ConfusionMatrixDisplay\n",
        "import matplotlib.pyplot as plt"
      ],
      "metadata": {
        "id": "ApLgV02Wrmj6"
      },
      "execution_count": null,
      "outputs": []
    },
    {
      "cell_type": "code",
      "source": [
        "m1 = confusion_matrix(all['a1_match_moral'], all['a2_match_moral'])\n",
        "labels = ['No','Yes']\n",
        "display = ConfusionMatrixDisplay(confusion_matrix=m1, display_labels=labels)\n",
        "display.plot(cmap=\"Greens\")\n",
        "title = \"Do Morals Match Meaning?\"\n",
        "subtitle = \"Inter-Rater Agreement\"\n",
        "plt.suptitle(title, fontsize=14)\n",
        "plt.title(subtitle, fontsize=10)\n",
        "plt.xlabel('Annotator 1')\n",
        "plt.ylabel('Annotator 2')\n",
        "plt.show()"
      ],
      "metadata": {
        "colab": {
          "base_uri": "https://localhost:8080/",
          "height": 308
        },
        "id": "k8kaxvAKrFgV",
        "outputId": "ffd44f39-2631-402f-bfb0-957f0937c97a"
      },
      "execution_count": null,
      "outputs": [
        {
          "output_type": "display_data",
          "data": {
            "text/plain": [
              "<Figure size 432x288 with 2 Axes>"
            ],
            "image/png": "[encoded data removed]"
          },
          "metadata": {
            "needs_background": "light"
          }
        }
      ]
    },
    {
      "cell_type": "code",
      "source": [
        "def exact_agreement2(r1, r2):\n",
        "    num_agreements = 0\n",
        "    num_ratings = len(r1)\n",
        "    for i in range(num_ratings):\n",
        "        if r1[i] == r2[i]: #== r3[i]:\n",
        "            num_agreements += 1\n",
        "    print(\"Agreements\", num_agreements)\n",
        "    result = num_agreements / num_ratings\n",
        "    return result, f\"{round(result*100)}% exact agreement\"\n",
        "exact_agreement2(all['a1_match_moral'], all['a2_match_moral'])"
      ],
      "metadata": {
        "colab": {
          "base_uri": "https://localhost:8080/"
        },
        "id": "Zl4-pi2fssby",
        "outputId": "a1c8c347-b201-41a8-8d7e-e98421236353"
      },
      "execution_count": null,
      "outputs": [
        {
          "output_type": "stream",
          "name": "stdout",
          "text": [
            "Agreements 105\n"
          ]
        },
        {
          "output_type": "execute_result",
          "data": {
            "text/plain": [
              "(0.7142857142857143, '71% exact agreement')"
            ]
          },
          "metadata": {},
          "execution_count": 15
        }
      ]
    },
    {
      "cell_type": "code",
      "source": [
        "m2 = confusion_matrix(all['a1_match_story'], all['a2_match_story'])\n",
        "labels = ['No','Yes']\n",
        "display = ConfusionMatrixDisplay(confusion_matrix=m2, display_labels=labels)\n",
        "display.plot(cmap=\"Greens\")\n",
        "title = \"Does Generated Moral Match Context?\"\n",
        "subtitle = \"Inter-Rater Agreement\"\n",
        "plt.suptitle(title, fontsize=14)\n",
        "plt.title(subtitle, fontsize=10)\n",
        "plt.xlabel('Annotator 1')\n",
        "plt.ylabel('Annotator 2')\n",
        "plt.show()"
      ],
      "metadata": {
        "colab": {
          "base_uri": "https://localhost:8080/",
          "height": 308
        },
        "id": "mq2AszlZuwG6",
        "outputId": "41112917-378c-4136-b9c7-4214a21c8b30"
      },
      "execution_count": null,
      "outputs": [
        {
          "output_type": "display_data",
          "data": {
            "text/plain": [
              "<Figure size 432x288 with 2 Axes>"
            ],
            "image/png": "[encoded data removed]"
          },
          "metadata": {
            "needs_background": "light"
          }
        }
      ]
    },
    {
      "cell_type": "code",
      "source": [
        "m3 = confusion_matrix(all['a1_match_moral'], all['a3_match_moral'])\n",
        "labels = ['No','Yes']\n",
        "display = ConfusionMatrixDisplay(confusion_matrix=m2, display_labels=labels)\n",
        "display.plot(cmap=\"Blues\")\n",
        "title = \"Do Morals Match Meaning?\"\n",
        "subtitle = \"Inter-Rater Agreement\"\n",
        "plt.suptitle(title, fontsize=14)\n",
        "plt.title(subtitle, fontsize=10)\n",
        "plt.xlabel('Annotator 1')\n",
        "plt.ylabel('Annotator 3')\n",
        "plt.show()"
      ],
      "metadata": {
        "colab": {
          "base_uri": "https://localhost:8080/",
          "height": 308
        },
        "id": "74nFBapIvw0-",
        "outputId": "f580573a-2641-469b-b91f-7a098c831dff"
      },
      "execution_count": null,
      "outputs": [
        {
          "output_type": "display_data",
          "data": {
            "text/plain": [
              "<Figure size 432x288 with 2 Axes>"
            ],
            "image/png": "[encoded data removed]"
          },
          "metadata": {
            "needs_background": "light"
          }
        }
      ]
    },
    {
      "cell_type": "code",
      "source": [
        "m4 = confusion_matrix(all['a1_match_story'], all['a3_match_story'])\n",
        "labels = ['No','Yes']\n",
        "display = ConfusionMatrixDisplay(confusion_matrix=m4, display_labels=labels)\n",
        "display.plot(cmap=\"Blues\")\n",
        "title = \"Does Generated Moral Match Context?\"\n",
        "subtitle = \"Inter-Rater Agreement\"\n",
        "plt.suptitle(title, fontsize=14)\n",
        "plt.title(subtitle, fontsize=10)\n",
        "plt.xlabel('Annotator 1')\n",
        "plt.ylabel('Annotator 3')\n",
        "plt.show()"
      ],
      "metadata": {
        "colab": {
          "base_uri": "https://localhost:8080/",
          "height": 308
        },
        "id": "KK6TJYkpv7Zt",
        "outputId": "6e209fcb-bdb6-418f-c403-22f66be5241b"
      },
      "execution_count": null,
      "outputs": [
        {
          "output_type": "display_data",
          "data": {
            "text/plain": [
              "<Figure size 432x288 with 2 Axes>"
            ],
            "image/png": "[encoded data removed]"
          },
          "metadata": {
            "needs_background": "light"
          }
        }
      ]
    },
    {
      "cell_type": "code",
      "source": [
        "m5 = confusion_matrix(all['a3_match_moral'], all['a2_match_moral'])\n",
        "labels = ['No','Yes']\n",
        "display = ConfusionMatrixDisplay(confusion_matrix=m5, display_labels=labels)\n",
        "display.plot(cmap=\"RdPu\")\n",
        "title = \"Do Morals Match Meaning?\"\n",
        "subtitle = \"Inter-Rater Agreement\"\n",
        "plt.suptitle(title, fontsize=14)\n",
        "plt.title(subtitle, fontsize=10)\n",
        "plt.xlabel('Annotator 3')\n",
        "plt.ylabel('Annotator 2')\n",
        "plt.show()"
      ],
      "metadata": {
        "colab": {
          "base_uri": "https://localhost:8080/",
          "height": 308
        },
        "id": "MHxeanqCwWI2",
        "outputId": "48f60c34-2748-46be-f0d7-1b855eddca72"
      },
      "execution_count": null,
      "outputs": [
        {
          "output_type": "display_data",
          "data": {
            "text/plain": [
              "<Figure size 432x288 with 2 Axes>"
            ],
            "image/png": "[encoded data removed]"
          },
          "metadata": {
            "needs_background": "light"
          }
        }
      ]
    },
    {
      "cell_type": "code",
      "source": [
        "m6 = confusion_matrix(all['a3_match_story'], all['a2_match_story'])\n",
        "labels = ['No','Yes']\n",
        "display = ConfusionMatrixDisplay(confusion_matrix=m6, display_labels=labels)\n",
        "display.plot(cmap=\"RdPu\")\n",
        "title = \"Does Generated Moral Match Context?\"\n",
        "subtitle = \"Inter-Rater Agreement\"\n",
        "plt.suptitle(title, fontsize=14)\n",
        "plt.title(subtitle, fontsize=10)\n",
        "plt.xlabel('Annotator 3')\n",
        "plt.ylabel('Annotator 2')\n",
        "plt.show()"
      ],
      "metadata": {
        "colab": {
          "base_uri": "https://localhost:8080/",
          "height": 308
        },
        "id": "LYnSCNgywhNu",
        "outputId": "b601997f-52fa-41b4-96df-3c1d5cf30c00"
      },
      "execution_count": null,
      "outputs": [
        {
          "output_type": "display_data",
          "data": {
            "text/plain": [
              "<Figure size 432x288 with 2 Axes>"
            ],
            "image/png": "[encoded data removed]"
          },
          "metadata": {
            "needs_background": "light"
          }
        }
      ]
    },
    {
      "cell_type": "markdown",
      "source": [
        "## Cohen's Kappa"
      ],
      "metadata": {
        "id": "WOKAihtw6amr"
      }
    },
    {
      "cell_type": "code",
      "source": [
        "from sklearn.metrics import cohen_kappa_score"
      ],
      "metadata": {
        "id": "wH1sdC976fTa"
      },
      "execution_count": null,
      "outputs": []
    },
    {
      "cell_type": "markdown",
      "source": [
        "Question 1\n",
        "\n",
        "Please compare moral1 and moral2, then answer the following question:\n",
        "\n",
        "Do moral1 and moral2 express more-or-less the same meaning?\n"
      ],
      "metadata": {
        "id": "2l94zHVv67Aa"
      }
    },
    {
      "cell_type": "code",
      "source": [
        "# Q1 A1 vs A2\n",
        "cohen_kappa_score(all['a1_match_moral'], all['a2_match_moral'])"
      ],
      "metadata": {
        "colab": {
          "base_uri": "https://localhost:8080/"
        },
        "id": "7UA9Dq8C2pu-",
        "outputId": "bf595163-8d24-4954-c94d-e3f4a9c7893c"
      },
      "execution_count": null,
      "outputs": [
        {
          "output_type": "execute_result",
          "data": {
            "text/plain": [
              "0.28541666666666654"
            ]
          },
          "metadata": {},
          "execution_count": 37
        }
      ]
    },
    {
      "cell_type": "code",
      "source": [
        "# Q1 A1 vs A3\n",
        "cohen_kappa_score(all['a1_match_moral'], all['a3_match_moral'])"
      ],
      "metadata": {
        "colab": {
          "base_uri": "https://localhost:8080/"
        },
        "id": "5pawA6xM6DUM",
        "outputId": "6cb9bc68-2914-459e-fdc9-7fb47347fa77"
      },
      "execution_count": null,
      "outputs": [
        {
          "output_type": "execute_result",
          "data": {
            "text/plain": [
              "0.23763973723637188"
            ]
          },
          "metadata": {},
          "execution_count": 38
        }
      ]
    },
    {
      "cell_type": "code",
      "source": [
        "# Q1 A2 vs A3\n",
        "cohen_kappa_score(all['a2_match_moral'], all['a3_match_moral'])"
      ],
      "metadata": {
        "colab": {
          "base_uri": "https://localhost:8080/"
        },
        "id": "-v-LE_au6Jvk",
        "outputId": "d9139963-f97e-462f-f476-df02f1e02dd6"
      },
      "execution_count": null,
      "outputs": [
        {
          "output_type": "execute_result",
          "data": {
            "text/plain": [
              "0.3149374540103017"
            ]
          },
          "metadata": {},
          "execution_count": 39
        }
      ]
    },
    {
      "cell_type": "markdown",
      "source": [
        "Question 2 (Only if answered No to Q1)\n",
        "\n",
        "Please read the corresponding story, then answer:\n",
        "\n",
        "Does moral2 make sense with the context?    "
      ],
      "metadata": {
        "id": "97iTfg667Ad1"
      }
    },
    {
      "cell_type": "code",
      "source": [
        "# Q2 A1 vs A2\n",
        "cohen_kappa_score(all['a1_match_story'], all['a2_match_story'])"
      ],
      "metadata": {
        "colab": {
          "base_uri": "https://localhost:8080/"
        },
        "id": "x7Am8Vu_7Lir",
        "outputId": "9f3a9a1a-52f4-4b5d-ef53-f60c9ad9c6ac"
      },
      "execution_count": null,
      "outputs": [
        {
          "output_type": "execute_result",
          "data": {
            "text/plain": [
              "0.15759312320916907"
            ]
          },
          "metadata": {},
          "execution_count": 40
        }
      ]
    },
    {
      "cell_type": "code",
      "source": [
        "# Q2 A1 vs A3\n",
        "cohen_kappa_score(all['a1_match_story'], all['a3_match_story'])"
      ],
      "metadata": {
        "colab": {
          "base_uri": "https://localhost:8080/"
        },
        "id": "JzJdvuon7OzS",
        "outputId": "d52d6c81-9243-4ad7-a467-8185a0cb2795"
      },
      "execution_count": null,
      "outputs": [
        {
          "output_type": "execute_result",
          "data": {
            "text/plain": [
              "0.3688820195775374"
            ]
          },
          "metadata": {},
          "execution_count": 41
        }
      ]
    },
    {
      "cell_type": "code",
      "source": [
        "# Q2 A2 vs A3\n",
        "cohen_kappa_score(all['a2_match_story'], all['a3_match_story'])"
      ],
      "metadata": {
        "colab": {
          "base_uri": "https://localhost:8080/"
        },
        "id": "lhheOzG07Ybf",
        "outputId": "5fe2f790-6766-4e88-f1fe-b79d283d298c"
      },
      "execution_count": null,
      "outputs": [
        {
          "output_type": "execute_result",
          "data": {
            "text/plain": [
              "0.27001862197392923"
            ]
          },
          "metadata": {},
          "execution_count": 42
        }
      ]
    },
    {
      "cell_type": "markdown",
      "source": [
        "## Examine ratings"
      ],
      "metadata": {
        "id": "byRSeDLyox2p"
      }
    },
    {
      "cell_type": "code",
      "source": [
        "# finding all entries where annotators agree the original moral matches the generated moral\n",
        "ids = []\n",
        "for i in range(147):\n",
        "    if q1_r1[i] == q1_r2[i] == q1_r3[i]:\n",
        "        ids.append(i)\n",
        "print(ids)"
      ],
      "metadata": {
        "colab": {
          "base_uri": "https://localhost:8080/"
        },
        "id": "bfAn1kSzowdn",
        "outputId": "4fcf70c6-0558-4654-df28-a195bdbafeda"
      },
      "execution_count": null,
      "outputs": [
        {
          "output_type": "stream",
          "name": "stdout",
          "text": [
            "[1, 2, 4, 5, 6, 9, 10, 11, 12, 13, 14, 15, 16, 17, 18, 21, 22, 23, 24, 25, 26, 31, 33, 35, 36, 42, 43, 44, 45, 46, 48, 52, 53, 54, 56, 57, 58, 59, 60, 64, 66, 67, 69, 70, 71, 75, 76, 78, 79, 81, 82, 83, 84, 85, 86, 87, 88, 91, 92, 93, 95, 96, 97, 98, 99, 100, 102, 103, 104, 106, 108, 109, 110, 111, 112, 113, 114, 116, 117, 118, 120, 121, 122, 123, 127, 128, 129, 130, 131, 133, 135, 137, 141, 143]\n"
          ]
        }
      ]
    },
    {
      "cell_type": "code",
      "source": [
        "len(ids)"
      ],
      "metadata": {
        "colab": {
          "base_uri": "https://localhost:8080/"
        },
        "id": "ETxganvHYQu3",
        "outputId": "8831a1c3-f2fe-4843-fb05-f58631348bb5"
      },
      "execution_count": null,
      "outputs": [
        {
          "output_type": "execute_result",
          "data": {
            "text/plain": [
              "94"
            ]
          },
          "metadata": {},
          "execution_count": 17
        }
      ]
    },
    {
      "cell_type": "markdown",
      "source": [
        "Experiment 2 Annotation Task\n",
        "\n",
        "Please read each folktale and judge (yes or no) whether moral1 and moral2 match the context, i.e. would each be an appropriate answer to the question, \"What's the moral of the story?\" "
      ],
      "metadata": {
        "id": "ybcCpn_MoW9W"
      }
    },
    {
      "cell_type": "code",
      "source": [
        "import pandas as pd\n",
        "ft_a1 = pd.read_csv(f'{dir}/folktales_gptj_annotate_AFeldman.csv')\n",
        "ft_a2 = pd.read_csv(f'{dir}/folktales_gptj_annotate_MSpitzer.csv')"
      ],
      "metadata": {
        "id": "bjUI_JptZgbJ"
      },
      "execution_count": null,
      "outputs": []
    },
    {
      "cell_type": "code",
      "source": [
        "ft_a1.head()"
      ],
      "metadata": {
        "colab": {
          "base_uri": "https://localhost:8080/",
          "height": 206
        },
        "id": "9WWfASFHqsOG",
        "outputId": "bfea1310-5023-455e-f0d5-3cf0e246a587"
      },
      "execution_count": null,
      "outputs": [
        {
          "output_type": "execute_result",
          "data": {
            "text/plain": [
              "                                                text  \\\n",
              "0  There was once a tailor, who was a quarrelsome...   \n",
              "1  In the days of yore, the proprietors of Colzea...   \n",
              "2  A fool, in town, did wisdom cry;The people, ea...   \n",
              "3  In mansion deck’d with frieze and column,Dwelt...   \n",
              "4  Old Rodilard, a certain cat,Such havoc of the ...   \n",
              "\n",
              "                            moral_generated_goodseed m1_match  \\\n",
              "0    We should not beat our wives, but should rat...      YES   \n",
              "1    If you are a good man, you will be a good ma...      YES   \n",
              "2  Those who are wise must not be taken in by the...      YES   \n",
              "3  The world is governed by the same laws that go...       NO   \n",
              "4    The man who is wise in council, but a fool i...      YES   \n",
              "\n",
              "                          moral_generated_randomseed m2_match  \n",
              "0    We are not to be too hard on those who trans...       NO  \n",
              "1    If you can’t do a kind act, do the next best...       NO  \n",
              "2                 A fool is often wiser than a sage.      YES  \n",
              "3  The end of all quarrels is that they produce m...      YES  \n",
              "4  The man who is to execute an idea must have co...      YES  "
            ],
            "text/html": [
              "\n",
              "  <div id=\"df-1f1eaa7d-bb7a-4906-a186-a404610de13c\">\n",
              "    <div class=\"colab-df-container\">\n",
              "      <div>\n",
              "<style scoped>\n",
              "    .dataframe tbody tr th:only-of-type {\n",
              "        vertical-align: middle;\n",
              "    }\n",
              "\n",
              "    .dataframe tbody tr th {\n",
              "        vertical-align: top;\n",
              "    }\n",
              "\n",
              "    .dataframe thead th {\n",
              "        text-align: right;\n",
              "    }\n",
              "</style>\n",
              "<table border=\"1\" class=\"dataframe\">\n",
              "  <thead>\n",
              "    <tr style=\"text-align: right;\">\n",
              "      <th></th>\n",
              "      <th>text</th>\n",
              "      <th>moral_generated_goodseed</th>\n",
              "      <th>m1_match</th>\n",
              "      <th>moral_generated_randomseed</th>\n",
              "      <th>m2_match</th>\n",
              "    </tr>\n",
              "  </thead>\n",
              "  <tbody>\n",
              "    <tr>\n",
              "      <th>0</th>\n",
              "      <td>There was once a tailor, who was a quarrelsome...</td>\n",
              "      <td>We should not beat our wives, but should rat...</td>\n",
              "      <td>YES</td>\n",
              "      <td>We are not to be too hard on those who trans...</td>\n",
              "      <td>NO</td>\n",
              "    </tr>\n",
              "    <tr>\n",
              "      <th>1</th>\n",
              "      <td>In the days of yore, the proprietors of Colzea...</td>\n",
              "      <td>If you are a good man, you will be a good ma...</td>\n",
              "      <td>YES</td>\n",
              "      <td>If you can’t do a kind act, do the next best...</td>\n",
              "      <td>NO</td>\n",
              "    </tr>\n",
              "    <tr>\n",
              "      <th>2</th>\n",
              "      <td>A fool, in town, did wisdom cry;The people, ea...</td>\n",
              "      <td>Those who are wise must not be taken in by the...</td>\n",
              "      <td>YES</td>\n",
              "      <td>A fool is often wiser than a sage.</td>\n",
              "      <td>YES</td>\n",
              "    </tr>\n",
              "    <tr>\n",
              "      <th>3</th>\n",
              "      <td>In mansion deck’d with frieze and column,Dwelt...</td>\n",
              "      <td>The world is governed by the same laws that go...</td>\n",
              "      <td>NO</td>\n",
              "      <td>The end of all quarrels is that they produce m...</td>\n",
              "      <td>YES</td>\n",
              "    </tr>\n",
              "    <tr>\n",
              "      <th>4</th>\n",
              "      <td>Old Rodilard, a certain cat,Such havoc of the ...</td>\n",
              "      <td>The man who is wise in council, but a fool i...</td>\n",
              "      <td>YES</td>\n",
              "      <td>The man who is to execute an idea must have co...</td>\n",
              "      <td>YES</td>\n",
              "    </tr>\n",
              "  </tbody>\n",
              "</table>\n",
              "</div>\n",
              "      <button class=\"colab-df-convert\" onclick=\"convertToInteractive('df-1f1eaa7d-bb7a-4906-a186-a404610de13c')\"\n",
              "              title=\"Convert this dataframe to an interactive table.\"\n",
              "              style=\"display:none;\">\n",
              "        \n",
              "  <svg xmlns=\"http://www.w3.org/2000/svg\" height=\"24px\"viewBox=\"0 0 24 24\"\n",
              "       width=\"24px\">\n",
              "    <path d=\"M0 0h24v24H0V0z\" fill=\"none\"/>\n",
              "    <path d=\"M18.56 5.44l.94 2.06.94-2.06 2.06-.94-2.06-.94-.94-2.06-.94 2.06-2.06.94zm-11 1L8.5 8.5l.94-2.06 2.06-.94-2.06-.94L8.5 2.5l-.94 2.06-2.06.94zm10 10l.94 2.06.94-2.06 2.06-.94-2.06-.94-.94-2.06-.94 2.06-2.06.94z\"/><path d=\"M17.41 7.96l-1.37-1.37c-.4-.4-.92-.59-1.43-.59-.52 0-1.04.2-1.43.59L10.3 9.45l-7.72 7.72c-.78.78-.78 2.05 0 2.83L4 21.41c.39.39.9.59 1.41.59.51 0 1.02-.2 1.41-.59l7.78-7.78 2.81-2.81c.8-.78.8-2.07 0-2.86zM5.41 20L4 18.59l7.72-7.72 1.47 1.35L5.41 20z\"/>\n",
              "  </svg>\n",
              "      </button>\n",
              "      \n",
              "  <style>\n",
              "    .colab-df-container {\n",
              "      display:flex;\n",
              "      flex-wrap:wrap;\n",
              "      gap: 12px;\n",
              "    }\n",
              "\n",
              "    .colab-df-convert {\n",
              "      background-color: #E8F0FE;\n",
              "      border: none;\n",
              "      border-radius: 50%;\n",
              "      cursor: pointer;\n",
              "      display: none;\n",
              "      fill: #1967D2;\n",
              "      height: 32px;\n",
              "      padding: 0 0 0 0;\n",
              "      width: 32px;\n",
              "    }\n",
              "\n",
              "    .colab-df-convert:hover {\n",
              "      background-color: #E2EBFA;\n",
              "      box-shadow: 0px 1px 2px rgba(60, 64, 67, 0.3), 0px 1px 3px 1px rgba(60, 64, 67, 0.15);\n",
              "      fill: #174EA6;\n",
              "    }\n",
              "\n",
              "    [theme=dark] .colab-df-convert {\n",
              "      background-color: #3B4455;\n",
              "      fill: #D2E3FC;\n",
              "    }\n",
              "\n",
              "    [theme=dark] .colab-df-convert:hover {\n",
              "      background-color: #434B5C;\n",
              "      box-shadow: 0px 1px 3px 1px rgba(0, 0, 0, 0.15);\n",
              "      filter: drop-shadow(0px 1px 2px rgba(0, 0, 0, 0.3));\n",
              "      fill: #FFFFFF;\n",
              "    }\n",
              "  </style>\n",
              "\n",
              "      <script>\n",
              "        const buttonEl =\n",
              "          document.querySelector('#df-1f1eaa7d-bb7a-4906-a186-a404610de13c button.colab-df-convert');\n",
              "        buttonEl.style.display =\n",
              "          google.colab.kernel.accessAllowed ? 'block' : 'none';\n",
              "\n",
              "        async function convertToInteractive(key) {\n",
              "          const element = document.querySelector('#df-1f1eaa7d-bb7a-4906-a186-a404610de13c');\n",
              "          const dataTable =\n",
              "            await google.colab.kernel.invokeFunction('convertToInteractive',\n",
              "                                                     [key], {});\n",
              "          if (!dataTable) return;\n",
              "\n",
              "          const docLinkHtml = 'Like what you see? Visit the ' +\n",
              "            '<a target=\"_blank\" href=https://colab.research.google.com/notebooks/data_table.ipynb>data table notebook</a>'\n",
              "            + ' to learn more about interactive tables.';\n",
              "          element.innerHTML = '';\n",
              "          dataTable['output_type'] = 'display_data';\n",
              "          await google.colab.output.renderOutput(dataTable, element);\n",
              "          const docLink = document.createElement('div');\n",
              "          docLink.innerHTML = docLinkHtml;\n",
              "          element.appendChild(docLink);\n",
              "        }\n",
              "      </script>\n",
              "    </div>\n",
              "  </div>\n",
              "  "
            ]
          },
          "metadata": {},
          "execution_count": 59
        }
      ]
    },
    {
      "cell_type": "code",
      "source": [
        "ft_a2.head()"
      ],
      "metadata": {
        "colab": {
          "base_uri": "https://localhost:8080/",
          "height": 206
        },
        "id": "dXhXRyZorSy0",
        "outputId": "8bc0de16-3c32-44b2-b57b-b14a32a0ae87"
      },
      "execution_count": null,
      "outputs": [
        {
          "output_type": "execute_result",
          "data": {
            "text/plain": [
              "                                                text  \\\n",
              "0  There was once a tailor, who was a quarrelsome...   \n",
              "1  In the days of yore, the proprietors of Colzea...   \n",
              "2  A fool, in town, did wisdom cry;The people, ea...   \n",
              "3  In mansion deck’d with frieze and column,Dwelt...   \n",
              "4  Old Rodilard, a certain cat,Such havoc of the ...   \n",
              "\n",
              "                            moral_generated_goodseed m1_match  \\\n",
              "0    We should not beat our wives, but should rat...      YES   \n",
              "1    If you are a good man, you will be a good ma...      YES   \n",
              "2  Those who are wise must not be taken in by the...      NaN   \n",
              "3  The world is governed by the same laws that go...      NaN   \n",
              "4    The man who is wise in council, but a fool i...      NaN   \n",
              "\n",
              "                          moral_generated_randomseed m2_match  \n",
              "0    We are not to be too hard on those who trans...       NO  \n",
              "1    If you can’t do a kind act, do the next best...       NO  \n",
              "2                 A fool is often wiser than a sage.      NaN  \n",
              "3  The end of all quarrels is that they produce m...      NaN  \n",
              "4  The man who is to execute an idea must have co...      NaN  "
            ],
            "text/html": [
              "\n",
              "  <div id=\"df-df7aebb6-f51e-4934-b7cb-5fc333faa875\">\n",
              "    <div class=\"colab-df-container\">\n",
              "      <div>\n",
              "<style scoped>\n",
              "    .dataframe tbody tr th:only-of-type {\n",
              "        vertical-align: middle;\n",
              "    }\n",
              "\n",
              "    .dataframe tbody tr th {\n",
              "        vertical-align: top;\n",
              "    }\n",
              "\n",
              "    .dataframe thead th {\n",
              "        text-align: right;\n",
              "    }\n",
              "</style>\n",
              "<table border=\"1\" class=\"dataframe\">\n",
              "  <thead>\n",
              "    <tr style=\"text-align: right;\">\n",
              "      <th></th>\n",
              "      <th>text</th>\n",
              "      <th>moral_generated_goodseed</th>\n",
              "      <th>m1_match</th>\n",
              "      <th>moral_generated_randomseed</th>\n",
              "      <th>m2_match</th>\n",
              "    </tr>\n",
              "  </thead>\n",
              "  <tbody>\n",
              "    <tr>\n",
              "      <th>0</th>\n",
              "      <td>There was once a tailor, who was a quarrelsome...</td>\n",
              "      <td>We should not beat our wives, but should rat...</td>\n",
              "      <td>YES</td>\n",
              "      <td>We are not to be too hard on those who trans...</td>\n",
              "      <td>NO</td>\n",
              "    </tr>\n",
              "    <tr>\n",
              "      <th>1</th>\n",
              "      <td>In the days of yore, the proprietors of Colzea...</td>\n",
              "      <td>If you are a good man, you will be a good ma...</td>\n",
              "      <td>YES</td>\n",
              "      <td>If you can’t do a kind act, do the next best...</td>\n",
              "      <td>NO</td>\n",
              "    </tr>\n",
              "    <tr>\n",
              "      <th>2</th>\n",
              "      <td>A fool, in town, did wisdom cry;The people, ea...</td>\n",
              "      <td>Those who are wise must not be taken in by the...</td>\n",
              "      <td>NaN</td>\n",
              "      <td>A fool is often wiser than a sage.</td>\n",
              "      <td>NaN</td>\n",
              "    </tr>\n",
              "    <tr>\n",
              "      <th>3</th>\n",
              "      <td>In mansion deck’d with frieze and column,Dwelt...</td>\n",
              "      <td>The world is governed by the same laws that go...</td>\n",
              "      <td>NaN</td>\n",
              "      <td>The end of all quarrels is that they produce m...</td>\n",
              "      <td>NaN</td>\n",
              "    </tr>\n",
              "    <tr>\n",
              "      <th>4</th>\n",
              "      <td>Old Rodilard, a certain cat,Such havoc of the ...</td>\n",
              "      <td>The man who is wise in council, but a fool i...</td>\n",
              "      <td>NaN</td>\n",
              "      <td>The man who is to execute an idea must have co...</td>\n",
              "      <td>NaN</td>\n",
              "    </tr>\n",
              "  </tbody>\n",
              "</table>\n",
              "</div>\n",
              "      <button class=\"colab-df-convert\" onclick=\"convertToInteractive('df-df7aebb6-f51e-4934-b7cb-5fc333faa875')\"\n",
              "              title=\"Convert this dataframe to an interactive table.\"\n",
              "              style=\"display:none;\">\n",
              "        \n",
              "  <svg xmlns=\"http://www.w3.org/2000/svg\" height=\"24px\"viewBox=\"0 0 24 24\"\n",
              "       width=\"24px\">\n",
              "    <path d=\"M0 0h24v24H0V0z\" fill=\"none\"/>\n",
              "    <path d=\"M18.56 5.44l.94 2.06.94-2.06 2.06-.94-2.06-.94-.94-2.06-.94 2.06-2.06.94zm-11 1L8.5 8.5l.94-2.06 2.06-.94-2.06-.94L8.5 2.5l-.94 2.06-2.06.94zm10 10l.94 2.06.94-2.06 2.06-.94-2.06-.94-.94-2.06-.94 2.06-2.06.94z\"/><path d=\"M17.41 7.96l-1.37-1.37c-.4-.4-.92-.59-1.43-.59-.52 0-1.04.2-1.43.59L10.3 9.45l-7.72 7.72c-.78.78-.78 2.05 0 2.83L4 21.41c.39.39.9.59 1.41.59.51 0 1.02-.2 1.41-.59l7.78-7.78 2.81-2.81c.8-.78.8-2.07 0-2.86zM5.41 20L4 18.59l7.72-7.72 1.47 1.35L5.41 20z\"/>\n",
              "  </svg>\n",
              "      </button>\n",
              "      \n",
              "  <style>\n",
              "    .colab-df-container {\n",
              "      display:flex;\n",
              "      flex-wrap:wrap;\n",
              "      gap: 12px;\n",
              "    }\n",
              "\n",
              "    .colab-df-convert {\n",
              "      background-color: #E8F0FE;\n",
              "      border: none;\n",
              "      border-radius: 50%;\n",
              "      cursor: pointer;\n",
              "      display: none;\n",
              "      fill: #1967D2;\n",
              "      height: 32px;\n",
              "      padding: 0 0 0 0;\n",
              "      width: 32px;\n",
              "    }\n",
              "\n",
              "    .colab-df-convert:hover {\n",
              "      background-color: #E2EBFA;\n",
              "      box-shadow: 0px 1px 2px rgba(60, 64, 67, 0.3), 0px 1px 3px 1px rgba(60, 64, 67, 0.15);\n",
              "      fill: #174EA6;\n",
              "    }\n",
              "\n",
              "    [theme=dark] .colab-df-convert {\n",
              "      background-color: #3B4455;\n",
              "      fill: #D2E3FC;\n",
              "    }\n",
              "\n",
              "    [theme=dark] .colab-df-convert:hover {\n",
              "      background-color: #434B5C;\n",
              "      box-shadow: 0px 1px 3px 1px rgba(0, 0, 0, 0.15);\n",
              "      filter: drop-shadow(0px 1px 2px rgba(0, 0, 0, 0.3));\n",
              "      fill: #FFFFFF;\n",
              "    }\n",
              "  </style>\n",
              "\n",
              "      <script>\n",
              "        const buttonEl =\n",
              "          document.querySelector('#df-df7aebb6-f51e-4934-b7cb-5fc333faa875 button.colab-df-convert');\n",
              "        buttonEl.style.display =\n",
              "          google.colab.kernel.accessAllowed ? 'block' : 'none';\n",
              "\n",
              "        async function convertToInteractive(key) {\n",
              "          const element = document.querySelector('#df-df7aebb6-f51e-4934-b7cb-5fc333faa875');\n",
              "          const dataTable =\n",
              "            await google.colab.kernel.invokeFunction('convertToInteractive',\n",
              "                                                     [key], {});\n",
              "          if (!dataTable) return;\n",
              "\n",
              "          const docLinkHtml = 'Like what you see? Visit the ' +\n",
              "            '<a target=\"_blank\" href=https://colab.research.google.com/notebooks/data_table.ipynb>data table notebook</a>'\n",
              "            + ' to learn more about interactive tables.';\n",
              "          element.innerHTML = '';\n",
              "          dataTable['output_type'] = 'display_data';\n",
              "          await google.colab.output.renderOutput(dataTable, element);\n",
              "          const docLink = document.createElement('div');\n",
              "          docLink.innerHTML = docLinkHtml;\n",
              "          element.appendChild(docLink);\n",
              "        }\n",
              "      </script>\n",
              "    </div>\n",
              "  </div>\n",
              "  "
            ]
          },
          "metadata": {},
          "execution_count": 58
        }
      ]
    },
    {
      "cell_type": "code",
      "source": [
        "ft_a1 = ft_a1.rename({\"m1_match\":\"m1_a1\",\"m2_match\":\"m2_a1\"}, axis='columns')\n",
        "ft_a2 = ft_a2.rename({\"m1_match\":\"m1_a2\",\"m2_match\":\"m2_a2\"}, axis='columns')"
      ],
      "metadata": {
        "id": "DLt_4Mp-0vMp"
      },
      "execution_count": null,
      "outputs": []
    },
    {
      "cell_type": "code",
      "source": [
        "ft_a1.dropna()\n",
        "ft_a2.dropna()"
      ],
      "metadata": {
        "colab": {
          "base_uri": "https://localhost:8080/",
          "height": 1000
        },
        "id": "Zsh7PSmuqlIi",
        "outputId": "0cab5e49-b9d3-4a58-f849-fcd3577e7a08"
      },
      "execution_count": null,
      "outputs": [
        {
          "output_type": "execute_result",
          "data": {
            "text/plain": [
              "                                                  text  \\\n",
              "0    There was once a tailor, who was a quarrelsome...   \n",
              "1    In the days of yore, the proprietors of Colzea...   \n",
              "5    A girl once lived in the province of Echigo, w...   \n",
              "10   The original proprietor of Deer Isle, off the ...   \n",
              "11   This beautiful alp in the White Mountains comm...   \n",
              "12   You must know that Judas was the one who betra...   \n",
              "15   A dove came to a brook to drink,When, leaning ...   \n",
              "16   When Siagon was about eight years old his pare...   \n",
              "20   Clad in a lion’s shaggy hide,An ass spread ter...   \n",
              "21   There was once a poor woman who had two childr...   \n",
              "28   When the Holy Virgin was fleeing into Egypt to...   \n",
              "33   A long time ago there was a very big crab whic...   \n",
              "35   There was once a young shepherd who wished muc...   \n",
              "46   An honest Hampshire farmer was sore distressed...   \n",
              "56   Once upon a time there was a peasant, who led ...   \n",
              "61   The lion had an enterprise in hand;Held a war-...   \n",
              "64   This Malchus was one of those Jews who beat ou...   \n",
              "79   The Fable Æsop tells is nearly this:—A shepher...   \n",
              "82   Tommy Pritchard was going to school one day, a...   \n",
              "84   One day when a monkey was climbing a tree in t...   \n",
              "85   In former times, when God himself still walked...   \n",
              "91   A grasshopper gaySang the summer away,And foun...   \n",
              "93   Some beast with horns did goreThe lion; and th...   \n",
              "95   One day the Moon, who was a woman named Kabiga...   \n",
              "102  Once upon a time a goat entered the den of the...   \n",
              "131  There was once a poor woman who had a son, who...   \n",
              "138  One day in the times when the sky was close to...   \n",
              "152  Once upon a time all the animals declared war ...   \n",
              "153  In the beginning there was nothing but God, an...   \n",
              "167  Once the Sun and the Moon quarreled with each ...   \n",
              "169  Mr. Spider wanted to marry Miss Fly. Many time...   \n",
              "191  A picture once was shown,In which one man, alo...   \n",
              "192  There was an old woman, as I’ve heard tell.She...   \n",
              "200  An ass, with relics for his load,Supposed the ...   \n",
              "204  Two bulls engaged in shocking battle,Both for ...   \n",
              "208  A bird, with plumèd arrow shot,In dying case d...   \n",
              "209  Two mules were bearing on their backs,One, oat...   \n",
              "212  One day a man who had been to gather his cocoa...   \n",
              "213  A girl from Brakel once went to St. Anne’s Cha...   \n",
              "218  A countryman one day said to his little puppie...   \n",
              "220  There was a tall young woman whom the fairies ...   \n",
              "223  There was once on a time a shepherd boy whose ...   \n",
              "\n",
              "                              moral_generated_goodseed m1_a2  \\\n",
              "0      We should not beat our wives, but should rat...   YES   \n",
              "1      If you are a good man, you will be a good ma...   YES   \n",
              "5      If you will not listen to the reasoning of t...    NO   \n",
              "10   The best way to deal with an enemy is to kill ...   YES   \n",
              "11              The Indian’s curse is not always idle.   YES   \n",
              "12                                Judas was a traitor.   YES   \n",
              "15                              A little bird told me.    NO   \n",
              "16                     When in doubt, do as others do.    NO   \n",
              "20     The brave man is not he who bears a shield a...   YES   \n",
              "21                                 Do not be too sure.    NO   \n",
              "28                         To be humble is to be safe.    NO   \n",
              "33   Do not be too hard to suit or you may have to ...    NO   \n",
              "35     The first is too hasty, the second too slow,...    NO   \n",
              "46           Never trust a man who is always sweating.    NO   \n",
              "56     The devil can be of service to us, if we wil...   YES   \n",
              "61   He who desires to be useful to his fellows mus...    NO   \n",
              "64   The true way to a man’s heart is through his c...    NO   \n",
              "79     When a man has made a vow, let him keep it, ...   YES   \n",
              "82      Don't be a thief, or you may be sorry for it.     NO   \n",
              "84    Acquaintance with evil blinds us to its dangers.   YES   \n",
              "85   Learn from my fate not to take pity on a scoun...    NO   \n",
              "91     Be content with what you have got, and not w...    NO   \n",
              "93   In a corner of the world there is a place wher...    NO   \n",
              "95     When you do something that you know will be ...    NO   \n",
              "102    Don't be afraid of the horns of the goat, an...    NO   \n",
              "131                     Not much, not much, not much.     NO   \n",
              "138             The sky is a long way from the ground.   YES   \n",
              "152  Do not play tricks on your neighbors unless yo...    NO   \n",
              "153  Do not think that you are the only one who swe...   YES   \n",
              "167    If you can not say something good about some...   YES   \n",
              "169    Never forgive an enemy, but never forget an ...    NO   \n",
              "191  There are times when being the only one who is...    NO   \n",
              "192  He who is good to his fellow-creatures is good...    NO   \n",
              "200            The more a man knows the less he knows.    NO   \n",
              "204  The follies of the great are often the cause o...   YES   \n",
              "208                             No man can be trusted.    NO   \n",
              "209                       Never boast of your talents.   YES   \n",
              "212       Never hurry when time is not of the essence.   YES   \n",
              "213                     Never listen to a gruff voice.    NO   \n",
              "218  It is not wise to be too sure about the way th...   YES   \n",
              "220    Do not be too sure that you have a good wife...    NO   \n",
              "223    The fool saith in his heart, There is no God...    NO   \n",
              "\n",
              "                            moral_generated_randomseed m2_a2  \n",
              "0      We are not to be too hard on those who trans...    NO  \n",
              "1      If you can’t do a kind act, do the next best...    NO  \n",
              "5      If you are poor, be not proud, nor anxious t...    NO  \n",
              "10      The best of friends may become deadly enemies.   YES  \n",
              "11   The curse of a prophet is not easily to be def...   YES  \n",
              "12     Judas was a traitor, and he deserved to die....    NO  \n",
              "15        A bird in the hand is worth two in the bush.    NO  \n",
              "16     If you want to get something done, do not go...   YES  \n",
              "20     When you are too proud to beg, you must be t...    NO  \n",
              "21     The good child is always good, but the bad c...    NO  \n",
              "28     If you want to get rid of a troublesome pers...    NO  \n",
              "33                      Don't be too sure of yourself.    NO  \n",
              "35     If you want to be happy, do not try to take ...    NO  \n",
              "46                   Be not too sure of your neighbor.    NO  \n",
              "56     If God is not thanked for the good things He...    NO  \n",
              "61          A wise king knows how to use his subjects.   YES  \n",
              "64     God is just, and the just shall live by his ...    NO  \n",
              "79   Do not be too sure that your prayers will be a...    NO  \n",
              "82   He who steals a sixpence will steal a sixpence...    NO  \n",
              "84     A good deed is never lost, but a bad one is ...   YES  \n",
              "85     If the people are deserving of blessings, Go...   YES  \n",
              "91     When a man tries to please everybody, he ple...    NO  \n",
              "93     We may be sure that our enemies are only too...    NO  \n",
              "95   There are some things that are better left uns...    NO  \n",
              "102  A goat is a dangerous animal to keep in the ho...    NO  \n",
              "131    “Not much, not much, not much.” is a good wa...    NO  \n",
              "138           There is no such thing as too much love.    NO  \n",
              "152     The bee sting is a sure cure for a bad temper.    NO  \n",
              "153    God is weary of travelling, and is glad when...    NO  \n",
              "167               The Sun is hot and the Moon is cool.   YES  \n",
              "169            Never take a person's word for granted.    NO  \n",
              "191    The lion, though he has conquered the man, h...   YES  \n",
              "192           A little knowledge is a dangerous thing.    NO  \n",
              "200          Be humble, for you are not the only one.     NO  \n",
              "204        The great are often the greatest sufferers.    NO  \n",
              "208    When you have to choose between two evils, c...    NO  \n",
              "209    “The mule is a beast of burden, and not a be...    NO  \n",
              "212    We should not hurry in the race, but should ...   YES  \n",
              "213    When a man or woman is in trouble, they shou...    NO  \n",
              "218    The more you are beaten, the more you must r...    NO  \n",
              "220                             Beware of the fairies.   YES  \n",
              "223    “The world is great, but thou art greater th...    NO  "
            ],
            "text/html": [
              "\n",
              "  <div id=\"df-a4104761-3b90-4757-993b-e7008c1e2299\">\n",
              "    <div class=\"colab-df-container\">\n",
              "      <div>\n",
              "<style scoped>\n",
              "    .dataframe tbody tr th:only-of-type {\n",
              "        vertical-align: middle;\n",
              "    }\n",
              "\n",
              "    .dataframe tbody tr th {\n",
              "        vertical-align: top;\n",
              "    }\n",
              "\n",
              "    .dataframe thead th {\n",
              "        text-align: right;\n",
              "    }\n",
              "</style>\n",
              "<table border=\"1\" class=\"dataframe\">\n",
              "  <thead>\n",
              "    <tr style=\"text-align: right;\">\n",
              "      <th></th>\n",
              "      <th>text</th>\n",
              "      <th>moral_generated_goodseed</th>\n",
              "      <th>m1_a2</th>\n",
              "      <th>moral_generated_randomseed</th>\n",
              "      <th>m2_a2</th>\n",
              "    </tr>\n",
              "  </thead>\n",
              "  <tbody>\n",
              "    <tr>\n",
              "      <th>0</th>\n",
              "      <td>There was once a tailor, who was a quarrelsome...</td>\n",
              "      <td>We should not beat our wives, but should rat...</td>\n",
              "      <td>YES</td>\n",
              "      <td>We are not to be too hard on those who trans...</td>\n",
              "      <td>NO</td>\n",
              "    </tr>\n",
              "    <tr>\n",
              "      <th>1</th>\n",
              "      <td>In the days of yore, the proprietors of Colzea...</td>\n",
              "      <td>If you are a good man, you will be a good ma...</td>\n",
              "      <td>YES</td>\n",
              "      <td>If you can’t do a kind act, do the next best...</td>\n",
              "      <td>NO</td>\n",
              "    </tr>\n",
              "    <tr>\n",
              "      <th>5</th>\n",
              "      <td>A girl once lived in the province of Echigo, w...</td>\n",
              "      <td>If you will not listen to the reasoning of t...</td>\n",
              "      <td>NO</td>\n",
              "      <td>If you are poor, be not proud, nor anxious t...</td>\n",
              "      <td>NO</td>\n",
              "    </tr>\n",
              "    <tr>\n",
              "      <th>10</th>\n",
              "      <td>The original proprietor of Deer Isle, off the ...</td>\n",
              "      <td>The best way to deal with an enemy is to kill ...</td>\n",
              "      <td>YES</td>\n",
              "      <td>The best of friends may become deadly enemies.</td>\n",
              "      <td>YES</td>\n",
              "    </tr>\n",
              "    <tr>\n",
              "      <th>11</th>\n",
              "      <td>This beautiful alp in the White Mountains comm...</td>\n",
              "      <td>The Indian’s curse is not always idle.</td>\n",
              "      <td>YES</td>\n",
              "      <td>The curse of a prophet is not easily to be def...</td>\n",
              "      <td>YES</td>\n",
              "    </tr>\n",
              "    <tr>\n",
              "      <th>12</th>\n",
              "      <td>You must know that Judas was the one who betra...</td>\n",
              "      <td>Judas was a traitor.</td>\n",
              "      <td>YES</td>\n",
              "      <td>Judas was a traitor, and he deserved to die....</td>\n",
              "      <td>NO</td>\n",
              "    </tr>\n",
              "    <tr>\n",
              "      <th>15</th>\n",
              "      <td>A dove came to a brook to drink,When, leaning ...</td>\n",
              "      <td>A little bird told me.</td>\n",
              "      <td>NO</td>\n",
              "      <td>A bird in the hand is worth two in the bush.</td>\n",
              "      <td>NO</td>\n",
              "    </tr>\n",
              "    <tr>\n",
              "      <th>16</th>\n",
              "      <td>When Siagon was about eight years old his pare...</td>\n",
              "      <td>When in doubt, do as others do.</td>\n",
              "      <td>NO</td>\n",
              "      <td>If you want to get something done, do not go...</td>\n",
              "      <td>YES</td>\n",
              "    </tr>\n",
              "    <tr>\n",
              "      <th>20</th>\n",
              "      <td>Clad in a lion’s shaggy hide,An ass spread ter...</td>\n",
              "      <td>The brave man is not he who bears a shield a...</td>\n",
              "      <td>YES</td>\n",
              "      <td>When you are too proud to beg, you must be t...</td>\n",
              "      <td>NO</td>\n",
              "    </tr>\n",
              "    <tr>\n",
              "      <th>21</th>\n",
              "      <td>There was once a poor woman who had two childr...</td>\n",
              "      <td>Do not be too sure.</td>\n",
              "      <td>NO</td>\n",
              "      <td>The good child is always good, but the bad c...</td>\n",
              "      <td>NO</td>\n",
              "    </tr>\n",
              "    <tr>\n",
              "      <th>28</th>\n",
              "      <td>When the Holy Virgin was fleeing into Egypt to...</td>\n",
              "      <td>To be humble is to be safe.</td>\n",
              "      <td>NO</td>\n",
              "      <td>If you want to get rid of a troublesome pers...</td>\n",
              "      <td>NO</td>\n",
              "    </tr>\n",
              "    <tr>\n",
              "      <th>33</th>\n",
              "      <td>A long time ago there was a very big crab whic...</td>\n",
              "      <td>Do not be too hard to suit or you may have to ...</td>\n",
              "      <td>NO</td>\n",
              "      <td>Don't be too sure of yourself.</td>\n",
              "      <td>NO</td>\n",
              "    </tr>\n",
              "    <tr>\n",
              "      <th>35</th>\n",
              "      <td>There was once a young shepherd who wished muc...</td>\n",
              "      <td>The first is too hasty, the second too slow,...</td>\n",
              "      <td>NO</td>\n",
              "      <td>If you want to be happy, do not try to take ...</td>\n",
              "      <td>NO</td>\n",
              "    </tr>\n",
              "    <tr>\n",
              "      <th>46</th>\n",
              "      <td>An honest Hampshire farmer was sore distressed...</td>\n",
              "      <td>Never trust a man who is always sweating.</td>\n",
              "      <td>NO</td>\n",
              "      <td>Be not too sure of your neighbor.</td>\n",
              "      <td>NO</td>\n",
              "    </tr>\n",
              "    <tr>\n",
              "      <th>56</th>\n",
              "      <td>Once upon a time there was a peasant, who led ...</td>\n",
              "      <td>The devil can be of service to us, if we wil...</td>\n",
              "      <td>YES</td>\n",
              "      <td>If God is not thanked for the good things He...</td>\n",
              "      <td>NO</td>\n",
              "    </tr>\n",
              "    <tr>\n",
              "      <th>61</th>\n",
              "      <td>The lion had an enterprise in hand;Held a war-...</td>\n",
              "      <td>He who desires to be useful to his fellows mus...</td>\n",
              "      <td>NO</td>\n",
              "      <td>A wise king knows how to use his subjects.</td>\n",
              "      <td>YES</td>\n",
              "    </tr>\n",
              "    <tr>\n",
              "      <th>64</th>\n",
              "      <td>This Malchus was one of those Jews who beat ou...</td>\n",
              "      <td>The true way to a man’s heart is through his c...</td>\n",
              "      <td>NO</td>\n",
              "      <td>God is just, and the just shall live by his ...</td>\n",
              "      <td>NO</td>\n",
              "    </tr>\n",
              "    <tr>\n",
              "      <th>79</th>\n",
              "      <td>The Fable Æsop tells is nearly this:—A shepher...</td>\n",
              "      <td>When a man has made a vow, let him keep it, ...</td>\n",
              "      <td>YES</td>\n",
              "      <td>Do not be too sure that your prayers will be a...</td>\n",
              "      <td>NO</td>\n",
              "    </tr>\n",
              "    <tr>\n",
              "      <th>82</th>\n",
              "      <td>Tommy Pritchard was going to school one day, a...</td>\n",
              "      <td>Don't be a thief, or you may be sorry for it.</td>\n",
              "      <td>NO</td>\n",
              "      <td>He who steals a sixpence will steal a sixpence...</td>\n",
              "      <td>NO</td>\n",
              "    </tr>\n",
              "    <tr>\n",
              "      <th>84</th>\n",
              "      <td>One day when a monkey was climbing a tree in t...</td>\n",
              "      <td>Acquaintance with evil blinds us to its dangers.</td>\n",
              "      <td>YES</td>\n",
              "      <td>A good deed is never lost, but a bad one is ...</td>\n",
              "      <td>YES</td>\n",
              "    </tr>\n",
              "    <tr>\n",
              "      <th>85</th>\n",
              "      <td>In former times, when God himself still walked...</td>\n",
              "      <td>Learn from my fate not to take pity on a scoun...</td>\n",
              "      <td>NO</td>\n",
              "      <td>If the people are deserving of blessings, Go...</td>\n",
              "      <td>YES</td>\n",
              "    </tr>\n",
              "    <tr>\n",
              "      <th>91</th>\n",
              "      <td>A grasshopper gaySang the summer away,And foun...</td>\n",
              "      <td>Be content with what you have got, and not w...</td>\n",
              "      <td>NO</td>\n",
              "      <td>When a man tries to please everybody, he ple...</td>\n",
              "      <td>NO</td>\n",
              "    </tr>\n",
              "    <tr>\n",
              "      <th>93</th>\n",
              "      <td>Some beast with horns did goreThe lion; and th...</td>\n",
              "      <td>In a corner of the world there is a place wher...</td>\n",
              "      <td>NO</td>\n",
              "      <td>We may be sure that our enemies are only too...</td>\n",
              "      <td>NO</td>\n",
              "    </tr>\n",
              "    <tr>\n",
              "      <th>95</th>\n",
              "      <td>One day the Moon, who was a woman named Kabiga...</td>\n",
              "      <td>When you do something that you know will be ...</td>\n",
              "      <td>NO</td>\n",
              "      <td>There are some things that are better left uns...</td>\n",
              "      <td>NO</td>\n",
              "    </tr>\n",
              "    <tr>\n",
              "      <th>102</th>\n",
              "      <td>Once upon a time a goat entered the den of the...</td>\n",
              "      <td>Don't be afraid of the horns of the goat, an...</td>\n",
              "      <td>NO</td>\n",
              "      <td>A goat is a dangerous animal to keep in the ho...</td>\n",
              "      <td>NO</td>\n",
              "    </tr>\n",
              "    <tr>\n",
              "      <th>131</th>\n",
              "      <td>There was once a poor woman who had a son, who...</td>\n",
              "      <td>Not much, not much, not much.</td>\n",
              "      <td>NO</td>\n",
              "      <td>“Not much, not much, not much.” is a good wa...</td>\n",
              "      <td>NO</td>\n",
              "    </tr>\n",
              "    <tr>\n",
              "      <th>138</th>\n",
              "      <td>One day in the times when the sky was close to...</td>\n",
              "      <td>The sky is a long way from the ground.</td>\n",
              "      <td>YES</td>\n",
              "      <td>There is no such thing as too much love.</td>\n",
              "      <td>NO</td>\n",
              "    </tr>\n",
              "    <tr>\n",
              "      <th>152</th>\n",
              "      <td>Once upon a time all the animals declared war ...</td>\n",
              "      <td>Do not play tricks on your neighbors unless yo...</td>\n",
              "      <td>NO</td>\n",
              "      <td>The bee sting is a sure cure for a bad temper.</td>\n",
              "      <td>NO</td>\n",
              "    </tr>\n",
              "    <tr>\n",
              "      <th>153</th>\n",
              "      <td>In the beginning there was nothing but God, an...</td>\n",
              "      <td>Do not think that you are the only one who swe...</td>\n",
              "      <td>YES</td>\n",
              "      <td>God is weary of travelling, and is glad when...</td>\n",
              "      <td>NO</td>\n",
              "    </tr>\n",
              "    <tr>\n",
              "      <th>167</th>\n",
              "      <td>Once the Sun and the Moon quarreled with each ...</td>\n",
              "      <td>If you can not say something good about some...</td>\n",
              "      <td>YES</td>\n",
              "      <td>The Sun is hot and the Moon is cool.</td>\n",
              "      <td>YES</td>\n",
              "    </tr>\n",
              "    <tr>\n",
              "      <th>169</th>\n",
              "      <td>Mr. Spider wanted to marry Miss Fly. Many time...</td>\n",
              "      <td>Never forgive an enemy, but never forget an ...</td>\n",
              "      <td>NO</td>\n",
              "      <td>Never take a person's word for granted.</td>\n",
              "      <td>NO</td>\n",
              "    </tr>\n",
              "    <tr>\n",
              "      <th>191</th>\n",
              "      <td>A picture once was shown,In which one man, alo...</td>\n",
              "      <td>There are times when being the only one who is...</td>\n",
              "      <td>NO</td>\n",
              "      <td>The lion, though he has conquered the man, h...</td>\n",
              "      <td>YES</td>\n",
              "    </tr>\n",
              "    <tr>\n",
              "      <th>192</th>\n",
              "      <td>There was an old woman, as I’ve heard tell.She...</td>\n",
              "      <td>He who is good to his fellow-creatures is good...</td>\n",
              "      <td>NO</td>\n",
              "      <td>A little knowledge is a dangerous thing.</td>\n",
              "      <td>NO</td>\n",
              "    </tr>\n",
              "    <tr>\n",
              "      <th>200</th>\n",
              "      <td>An ass, with relics for his load,Supposed the ...</td>\n",
              "      <td>The more a man knows the less he knows.</td>\n",
              "      <td>NO</td>\n",
              "      <td>Be humble, for you are not the only one.</td>\n",
              "      <td>NO</td>\n",
              "    </tr>\n",
              "    <tr>\n",
              "      <th>204</th>\n",
              "      <td>Two bulls engaged in shocking battle,Both for ...</td>\n",
              "      <td>The follies of the great are often the cause o...</td>\n",
              "      <td>YES</td>\n",
              "      <td>The great are often the greatest sufferers.</td>\n",
              "      <td>NO</td>\n",
              "    </tr>\n",
              "    <tr>\n",
              "      <th>208</th>\n",
              "      <td>A bird, with plumèd arrow shot,In dying case d...</td>\n",
              "      <td>No man can be trusted.</td>\n",
              "      <td>NO</td>\n",
              "      <td>When you have to choose between two evils, c...</td>\n",
              "      <td>NO</td>\n",
              "    </tr>\n",
              "    <tr>\n",
              "      <th>209</th>\n",
              "      <td>Two mules were bearing on their backs,One, oat...</td>\n",
              "      <td>Never boast of your talents.</td>\n",
              "      <td>YES</td>\n",
              "      <td>“The mule is a beast of burden, and not a be...</td>\n",
              "      <td>NO</td>\n",
              "    </tr>\n",
              "    <tr>\n",
              "      <th>212</th>\n",
              "      <td>One day a man who had been to gather his cocoa...</td>\n",
              "      <td>Never hurry when time is not of the essence.</td>\n",
              "      <td>YES</td>\n",
              "      <td>We should not hurry in the race, but should ...</td>\n",
              "      <td>YES</td>\n",
              "    </tr>\n",
              "    <tr>\n",
              "      <th>213</th>\n",
              "      <td>A girl from Brakel once went to St. Anne’s Cha...</td>\n",
              "      <td>Never listen to a gruff voice.</td>\n",
              "      <td>NO</td>\n",
              "      <td>When a man or woman is in trouble, they shou...</td>\n",
              "      <td>NO</td>\n",
              "    </tr>\n",
              "    <tr>\n",
              "      <th>218</th>\n",
              "      <td>A countryman one day said to his little puppie...</td>\n",
              "      <td>It is not wise to be too sure about the way th...</td>\n",
              "      <td>YES</td>\n",
              "      <td>The more you are beaten, the more you must r...</td>\n",
              "      <td>NO</td>\n",
              "    </tr>\n",
              "    <tr>\n",
              "      <th>220</th>\n",
              "      <td>There was a tall young woman whom the fairies ...</td>\n",
              "      <td>Do not be too sure that you have a good wife...</td>\n",
              "      <td>NO</td>\n",
              "      <td>Beware of the fairies.</td>\n",
              "      <td>YES</td>\n",
              "    </tr>\n",
              "    <tr>\n",
              "      <th>223</th>\n",
              "      <td>There was once on a time a shepherd boy whose ...</td>\n",
              "      <td>The fool saith in his heart, There is no God...</td>\n",
              "      <td>NO</td>\n",
              "      <td>“The world is great, but thou art greater th...</td>\n",
              "      <td>NO</td>\n",
              "    </tr>\n",
              "  </tbody>\n",
              "</table>\n",
              "</div>\n",
              "      <button class=\"colab-df-convert\" onclick=\"convertToInteractive('df-a4104761-3b90-4757-993b-e7008c1e2299')\"\n",
              "              title=\"Convert this dataframe to an interactive table.\"\n",
              "              style=\"display:none;\">\n",
              "        \n",
              "  <svg xmlns=\"http://www.w3.org/2000/svg\" height=\"24px\"viewBox=\"0 0 24 24\"\n",
              "       width=\"24px\">\n",
              "    <path d=\"M0 0h24v24H0V0z\" fill=\"none\"/>\n",
              "    <path d=\"M18.56 5.44l.94 2.06.94-2.06 2.06-.94-2.06-.94-.94-2.06-.94 2.06-2.06.94zm-11 1L8.5 8.5l.94-2.06 2.06-.94-2.06-.94L8.5 2.5l-.94 2.06-2.06.94zm10 10l.94 2.06.94-2.06 2.06-.94-2.06-.94-.94-2.06-.94 2.06-2.06.94z\"/><path d=\"M17.41 7.96l-1.37-1.37c-.4-.4-.92-.59-1.43-.59-.52 0-1.04.2-1.43.59L10.3 9.45l-7.72 7.72c-.78.78-.78 2.05 0 2.83L4 21.41c.39.39.9.59 1.41.59.51 0 1.02-.2 1.41-.59l7.78-7.78 2.81-2.81c.8-.78.8-2.07 0-2.86zM5.41 20L4 18.59l7.72-7.72 1.47 1.35L5.41 20z\"/>\n",
              "  </svg>\n",
              "      </button>\n",
              "      \n",
              "  <style>\n",
              "    .colab-df-container {\n",
              "      display:flex;\n",
              "      flex-wrap:wrap;\n",
              "      gap: 12px;\n",
              "    }\n",
              "\n",
              "    .colab-df-convert {\n",
              "      background-color: #E8F0FE;\n",
              "      border: none;\n",
              "      border-radius: 50%;\n",
              "      cursor: pointer;\n",
              "      display: none;\n",
              "      fill: #1967D2;\n",
              "      height: 32px;\n",
              "      padding: 0 0 0 0;\n",
              "      width: 32px;\n",
              "    }\n",
              "\n",
              "    .colab-df-convert:hover {\n",
              "      background-color: #E2EBFA;\n",
              "      box-shadow: 0px 1px 2px rgba(60, 64, 67, 0.3), 0px 1px 3px 1px rgba(60, 64, 67, 0.15);\n",
              "      fill: #174EA6;\n",
              "    }\n",
              "\n",
              "    [theme=dark] .colab-df-convert {\n",
              "      background-color: #3B4455;\n",
              "      fill: #D2E3FC;\n",
              "    }\n",
              "\n",
              "    [theme=dark] .colab-df-convert:hover {\n",
              "      background-color: #434B5C;\n",
              "      box-shadow: 0px 1px 3px 1px rgba(0, 0, 0, 0.15);\n",
              "      filter: drop-shadow(0px 1px 2px rgba(0, 0, 0, 0.3));\n",
              "      fill: #FFFFFF;\n",
              "    }\n",
              "  </style>\n",
              "\n",
              "      <script>\n",
              "        const buttonEl =\n",
              "          document.querySelector('#df-a4104761-3b90-4757-993b-e7008c1e2299 button.colab-df-convert');\n",
              "        buttonEl.style.display =\n",
              "          google.colab.kernel.accessAllowed ? 'block' : 'none';\n",
              "\n",
              "        async function convertToInteractive(key) {\n",
              "          const element = document.querySelector('#df-a4104761-3b90-4757-993b-e7008c1e2299');\n",
              "          const dataTable =\n",
              "            await google.colab.kernel.invokeFunction('convertToInteractive',\n",
              "                                                     [key], {});\n",
              "          if (!dataTable) return;\n",
              "\n",
              "          const docLinkHtml = 'Like what you see? Visit the ' +\n",
              "            '<a target=\"_blank\" href=https://colab.research.google.com/notebooks/data_table.ipynb>data table notebook</a>'\n",
              "            + ' to learn more about interactive tables.';\n",
              "          element.innerHTML = '';\n",
              "          dataTable['output_type'] = 'display_data';\n",
              "          await google.colab.output.renderOutput(dataTable, element);\n",
              "          const docLink = document.createElement('div');\n",
              "          docLink.innerHTML = docLinkHtml;\n",
              "          element.appendChild(docLink);\n",
              "        }\n",
              "      </script>\n",
              "    </div>\n",
              "  </div>\n",
              "  "
            ]
          },
          "metadata": {},
          "execution_count": 79
        }
      ]
    },
    {
      "cell_type": "code",
      "source": [
        "ft_a1.describe()"
      ],
      "metadata": {
        "colab": {
          "base_uri": "https://localhost:8080/",
          "height": 175
        },
        "id": "-tgsxMR_ql8P",
        "outputId": "0bd45025-260c-4723-cc78-533c4afae723"
      },
      "execution_count": null,
      "outputs": [
        {
          "output_type": "execute_result",
          "data": {
            "text/plain": [
              "                       moral_generated_goodseed m1_match  \\\n",
              "count                                       224       68   \n",
              "unique                                      223        2   \n",
              "top     A little learning is a dangerous thing.       NO   \n",
              "freq                                          2       39   \n",
              "\n",
              "                               moral_generated_randomseed m2_match  \n",
              "count                                                 224       68  \n",
              "unique                                                224        2  \n",
              "top       We are not to be too hard on those who trans...       NO  \n",
              "freq                                                    1       43  "
            ],
            "text/html": [
              "\n",
              "  <div id=\"df-32c84aab-d493-4465-af29-027b3c8321a7\">\n",
              "    <div class=\"colab-df-container\">\n",
              "      <div>\n",
              "<style scoped>\n",
              "    .dataframe tbody tr th:only-of-type {\n",
              "        vertical-align: middle;\n",
              "    }\n",
              "\n",
              "    .dataframe tbody tr th {\n",
              "        vertical-align: top;\n",
              "    }\n",
              "\n",
              "    .dataframe thead th {\n",
              "        text-align: right;\n",
              "    }\n",
              "</style>\n",
              "<table border=\"1\" class=\"dataframe\">\n",
              "  <thead>\n",
              "    <tr style=\"text-align: right;\">\n",
              "      <th></th>\n",
              "      <th>moral_generated_goodseed</th>\n",
              "      <th>m1_match</th>\n",
              "      <th>moral_generated_randomseed</th>\n",
              "      <th>m2_match</th>\n",
              "    </tr>\n",
              "  </thead>\n",
              "  <tbody>\n",
              "    <tr>\n",
              "      <th>count</th>\n",
              "      <td>224</td>\n",
              "      <td>68</td>\n",
              "      <td>224</td>\n",
              "      <td>68</td>\n",
              "    </tr>\n",
              "    <tr>\n",
              "      <th>unique</th>\n",
              "      <td>223</td>\n",
              "      <td>2</td>\n",
              "      <td>224</td>\n",
              "      <td>2</td>\n",
              "    </tr>\n",
              "    <tr>\n",
              "      <th>top</th>\n",
              "      <td>A little learning is a dangerous thing.</td>\n",
              "      <td>NO</td>\n",
              "      <td>We are not to be too hard on those who trans...</td>\n",
              "      <td>NO</td>\n",
              "    </tr>\n",
              "    <tr>\n",
              "      <th>freq</th>\n",
              "      <td>2</td>\n",
              "      <td>39</td>\n",
              "      <td>1</td>\n",
              "      <td>43</td>\n",
              "    </tr>\n",
              "  </tbody>\n",
              "</table>\n",
              "</div>\n",
              "      <button class=\"colab-df-convert\" onclick=\"convertToInteractive('df-32c84aab-d493-4465-af29-027b3c8321a7')\"\n",
              "              title=\"Convert this dataframe to an interactive table.\"\n",
              "              style=\"display:none;\">\n",
              "        \n",
              "  <svg xmlns=\"http://www.w3.org/2000/svg\" height=\"24px\"viewBox=\"0 0 24 24\"\n",
              "       width=\"24px\">\n",
              "    <path d=\"M0 0h24v24H0V0z\" fill=\"none\"/>\n",
              "    <path d=\"M18.56 5.44l.94 2.06.94-2.06 2.06-.94-2.06-.94-.94-2.06-.94 2.06-2.06.94zm-11 1L8.5 8.5l.94-2.06 2.06-.94-2.06-.94L8.5 2.5l-.94 2.06-2.06.94zm10 10l.94 2.06.94-2.06 2.06-.94-2.06-.94-.94-2.06-.94 2.06-2.06.94z\"/><path d=\"M17.41 7.96l-1.37-1.37c-.4-.4-.92-.59-1.43-.59-.52 0-1.04.2-1.43.59L10.3 9.45l-7.72 7.72c-.78.78-.78 2.05 0 2.83L4 21.41c.39.39.9.59 1.41.59.51 0 1.02-.2 1.41-.59l7.78-7.78 2.81-2.81c.8-.78.8-2.07 0-2.86zM5.41 20L4 18.59l7.72-7.72 1.47 1.35L5.41 20z\"/>\n",
              "  </svg>\n",
              "      </button>\n",
              "      \n",
              "  <style>\n",
              "    .colab-df-container {\n",
              "      display:flex;\n",
              "      flex-wrap:wrap;\n",
              "      gap: 12px;\n",
              "    }\n",
              "\n",
              "    .colab-df-convert {\n",
              "      background-color: #E8F0FE;\n",
              "      border: none;\n",
              "      border-radius: 50%;\n",
              "      cursor: pointer;\n",
              "      display: none;\n",
              "      fill: #1967D2;\n",
              "      height: 32px;\n",
              "      padding: 0 0 0 0;\n",
              "      width: 32px;\n",
              "    }\n",
              "\n",
              "    .colab-df-convert:hover {\n",
              "      background-color: #E2EBFA;\n",
              "      box-shadow: 0px 1px 2px rgba(60, 64, 67, 0.3), 0px 1px 3px 1px rgba(60, 64, 67, 0.15);\n",
              "      fill: #174EA6;\n",
              "    }\n",
              "\n",
              "    [theme=dark] .colab-df-convert {\n",
              "      background-color: #3B4455;\n",
              "      fill: #D2E3FC;\n",
              "    }\n",
              "\n",
              "    [theme=dark] .colab-df-convert:hover {\n",
              "      background-color: #434B5C;\n",
              "      box-shadow: 0px 1px 3px 1px rgba(0, 0, 0, 0.15);\n",
              "      filter: drop-shadow(0px 1px 2px rgba(0, 0, 0, 0.3));\n",
              "      fill: #FFFFFF;\n",
              "    }\n",
              "  </style>\n",
              "\n",
              "      <script>\n",
              "        const buttonEl =\n",
              "          document.querySelector('#df-32c84aab-d493-4465-af29-027b3c8321a7 button.colab-df-convert');\n",
              "        buttonEl.style.display =\n",
              "          google.colab.kernel.accessAllowed ? 'block' : 'none';\n",
              "\n",
              "        async function convertToInteractive(key) {\n",
              "          const element = document.querySelector('#df-32c84aab-d493-4465-af29-027b3c8321a7');\n",
              "          const dataTable =\n",
              "            await google.colab.kernel.invokeFunction('convertToInteractive',\n",
              "                                                     [key], {});\n",
              "          if (!dataTable) return;\n",
              "\n",
              "          const docLinkHtml = 'Like what you see? Visit the ' +\n",
              "            '<a target=\"_blank\" href=https://colab.research.google.com/notebooks/data_table.ipynb>data table notebook</a>'\n",
              "            + ' to learn more about interactive tables.';\n",
              "          element.innerHTML = '';\n",
              "          dataTable['output_type'] = 'display_data';\n",
              "          await google.colab.output.renderOutput(dataTable, element);\n",
              "          const docLink = document.createElement('div');\n",
              "          docLink.innerHTML = docLinkHtml;\n",
              "          element.appendChild(docLink);\n",
              "        }\n",
              "      </script>\n",
              "    </div>\n",
              "  </div>\n",
              "  "
            ]
          },
          "metadata": {},
          "execution_count": 19
        }
      ]
    },
    {
      "cell_type": "code",
      "source": [
        "ft_a2.describe()"
      ],
      "metadata": {
        "colab": {
          "base_uri": "https://localhost:8080/",
          "height": 175
        },
        "id": "kvTqXlLyrdmS",
        "outputId": "ee6acf35-6884-4545-b2c4-b290f891c224"
      },
      "execution_count": null,
      "outputs": [
        {
          "output_type": "execute_result",
          "data": {
            "text/plain": [
              "                       moral_generated_goodseed m1_match  \\\n",
              "count                                       224       42   \n",
              "unique                                      223        2   \n",
              "top     A little learning is a dangerous thing.       NO   \n",
              "freq                                          2       26   \n",
              "\n",
              "                               moral_generated_randomseed m2_match  \n",
              "count                                                 224       42  \n",
              "unique                                                224        2  \n",
              "top       We are not to be too hard on those who trans...       NO  \n",
              "freq                                                    1       32  "
            ],
            "text/html": [
              "\n",
              "  <div id=\"df-3dba86a5-0beb-4558-b3b1-d244a74577d8\">\n",
              "    <div class=\"colab-df-container\">\n",
              "      <div>\n",
              "<style scoped>\n",
              "    .dataframe tbody tr th:only-of-type {\n",
              "        vertical-align: middle;\n",
              "    }\n",
              "\n",
              "    .dataframe tbody tr th {\n",
              "        vertical-align: top;\n",
              "    }\n",
              "\n",
              "    .dataframe thead th {\n",
              "        text-align: right;\n",
              "    }\n",
              "</style>\n",
              "<table border=\"1\" class=\"dataframe\">\n",
              "  <thead>\n",
              "    <tr style=\"text-align: right;\">\n",
              "      <th></th>\n",
              "      <th>moral_generated_goodseed</th>\n",
              "      <th>m1_match</th>\n",
              "      <th>moral_generated_randomseed</th>\n",
              "      <th>m2_match</th>\n",
              "    </tr>\n",
              "  </thead>\n",
              "  <tbody>\n",
              "    <tr>\n",
              "      <th>count</th>\n",
              "      <td>224</td>\n",
              "      <td>42</td>\n",
              "      <td>224</td>\n",
              "      <td>42</td>\n",
              "    </tr>\n",
              "    <tr>\n",
              "      <th>unique</th>\n",
              "      <td>223</td>\n",
              "      <td>2</td>\n",
              "      <td>224</td>\n",
              "      <td>2</td>\n",
              "    </tr>\n",
              "    <tr>\n",
              "      <th>top</th>\n",
              "      <td>A little learning is a dangerous thing.</td>\n",
              "      <td>NO</td>\n",
              "      <td>We are not to be too hard on those who trans...</td>\n",
              "      <td>NO</td>\n",
              "    </tr>\n",
              "    <tr>\n",
              "      <th>freq</th>\n",
              "      <td>2</td>\n",
              "      <td>26</td>\n",
              "      <td>1</td>\n",
              "      <td>32</td>\n",
              "    </tr>\n",
              "  </tbody>\n",
              "</table>\n",
              "</div>\n",
              "      <button class=\"colab-df-convert\" onclick=\"convertToInteractive('df-3dba86a5-0beb-4558-b3b1-d244a74577d8')\"\n",
              "              title=\"Convert this dataframe to an interactive table.\"\n",
              "              style=\"display:none;\">\n",
              "        \n",
              "  <svg xmlns=\"http://www.w3.org/2000/svg\" height=\"24px\"viewBox=\"0 0 24 24\"\n",
              "       width=\"24px\">\n",
              "    <path d=\"M0 0h24v24H0V0z\" fill=\"none\"/>\n",
              "    <path d=\"M18.56 5.44l.94 2.06.94-2.06 2.06-.94-2.06-.94-.94-2.06-.94 2.06-2.06.94zm-11 1L8.5 8.5l.94-2.06 2.06-.94-2.06-.94L8.5 2.5l-.94 2.06-2.06.94zm10 10l.94 2.06.94-2.06 2.06-.94-2.06-.94-.94-2.06-.94 2.06-2.06.94z\"/><path d=\"M17.41 7.96l-1.37-1.37c-.4-.4-.92-.59-1.43-.59-.52 0-1.04.2-1.43.59L10.3 9.45l-7.72 7.72c-.78.78-.78 2.05 0 2.83L4 21.41c.39.39.9.59 1.41.59.51 0 1.02-.2 1.41-.59l7.78-7.78 2.81-2.81c.8-.78.8-2.07 0-2.86zM5.41 20L4 18.59l7.72-7.72 1.47 1.35L5.41 20z\"/>\n",
              "  </svg>\n",
              "      </button>\n",
              "      \n",
              "  <style>\n",
              "    .colab-df-container {\n",
              "      display:flex;\n",
              "      flex-wrap:wrap;\n",
              "      gap: 12px;\n",
              "    }\n",
              "\n",
              "    .colab-df-convert {\n",
              "      background-color: #E8F0FE;\n",
              "      border: none;\n",
              "      border-radius: 50%;\n",
              "      cursor: pointer;\n",
              "      display: none;\n",
              "      fill: #1967D2;\n",
              "      height: 32px;\n",
              "      padding: 0 0 0 0;\n",
              "      width: 32px;\n",
              "    }\n",
              "\n",
              "    .colab-df-convert:hover {\n",
              "      background-color: #E2EBFA;\n",
              "      box-shadow: 0px 1px 2px rgba(60, 64, 67, 0.3), 0px 1px 3px 1px rgba(60, 64, 67, 0.15);\n",
              "      fill: #174EA6;\n",
              "    }\n",
              "\n",
              "    [theme=dark] .colab-df-convert {\n",
              "      background-color: #3B4455;\n",
              "      fill: #D2E3FC;\n",
              "    }\n",
              "\n",
              "    [theme=dark] .colab-df-convert:hover {\n",
              "      background-color: #434B5C;\n",
              "      box-shadow: 0px 1px 3px 1px rgba(0, 0, 0, 0.15);\n",
              "      filter: drop-shadow(0px 1px 2px rgba(0, 0, 0, 0.3));\n",
              "      fill: #FFFFFF;\n",
              "    }\n",
              "  </style>\n",
              "\n",
              "      <script>\n",
              "        const buttonEl =\n",
              "          document.querySelector('#df-3dba86a5-0beb-4558-b3b1-d244a74577d8 button.colab-df-convert');\n",
              "        buttonEl.style.display =\n",
              "          google.colab.kernel.accessAllowed ? 'block' : 'none';\n",
              "\n",
              "        async function convertToInteractive(key) {\n",
              "          const element = document.querySelector('#df-3dba86a5-0beb-4558-b3b1-d244a74577d8');\n",
              "          const dataTable =\n",
              "            await google.colab.kernel.invokeFunction('convertToInteractive',\n",
              "                                                     [key], {});\n",
              "          if (!dataTable) return;\n",
              "\n",
              "          const docLinkHtml = 'Like what you see? Visit the ' +\n",
              "            '<a target=\"_blank\" href=https://colab.research.google.com/notebooks/data_table.ipynb>data table notebook</a>'\n",
              "            + ' to learn more about interactive tables.';\n",
              "          element.innerHTML = '';\n",
              "          dataTable['output_type'] = 'display_data';\n",
              "          await google.colab.output.renderOutput(dataTable, element);\n",
              "          const docLink = document.createElement('div');\n",
              "          docLink.innerHTML = docLinkHtml;\n",
              "          element.appendChild(docLink);\n",
              "        }\n",
              "      </script>\n",
              "    </div>\n",
              "  </div>\n",
              "  "
            ]
          },
          "metadata": {},
          "execution_count": 20
        }
      ]
    },
    {
      "cell_type": "code",
      "source": [
        "def exact_agreement(r1, r2):\n",
        "    '''annotator with MORE annotations must be r1'''\n",
        "    num_agreements = 0\n",
        "    num_ratings = len(r1)\n",
        "    for i in range(num_ratings):\n",
        "        if r1[i] == r2[i]:\n",
        "            num_agreements += 1\n",
        "    result = num_agreements / num_ratings\n",
        "    return num_agreements, num_ratings, result, f\"{round(result*100)}% exact agreement\""
      ],
      "metadata": {
        "id": "LLZyfQuArgxu"
      },
      "execution_count": null,
      "outputs": []
    },
    {
      "cell_type": "code",
      "source": [
        "exact_agreement(ft_a1['m1_match'],ft_a1['m2_match'])"
      ],
      "metadata": {
        "colab": {
          "base_uri": "https://localhost:8080/"
        },
        "id": "jJK-wdpor-PR",
        "outputId": "02132ed7-467a-45cf-d8fd-84d28db8c264"
      },
      "execution_count": null,
      "outputs": [
        {
          "output_type": "execute_result",
          "data": {
            "text/plain": [
              "(34, 224, 0.15178571428571427, '15% exact agreement')"
            ]
          },
          "metadata": {},
          "execution_count": 29
        }
      ]
    },
    {
      "cell_type": "code",
      "source": [
        "ft = pd.concat([ft_a1,ft_a2])"
      ],
      "metadata": {
        "id": "LajAS5nu0gha"
      },
      "execution_count": null,
      "outputs": []
    },
    {
      "cell_type": "code",
      "source": [
        "ft.head()"
      ],
      "metadata": {
        "colab": {
          "base_uri": "https://localhost:8080/",
          "height": 206
        },
        "id": "giqteFMk0EZn",
        "outputId": "57e9c496-e751-4cce-c49a-47347b762657"
      },
      "execution_count": null,
      "outputs": [
        {
          "output_type": "execute_result",
          "data": {
            "text/plain": [
              "                                                text  \\\n",
              "0  There was once a tailor, who was a quarrelsome...   \n",
              "1  In the days of yore, the proprietors of Colzea...   \n",
              "2  A fool, in town, did wisdom cry;The people, ea...   \n",
              "3  In mansion deck’d with frieze and column,Dwelt...   \n",
              "4  Old Rodilard, a certain cat,Such havoc of the ...   \n",
              "\n",
              "                            moral_generated_goodseed m1_a1  \\\n",
              "0    We should not beat our wives, but should rat...   YES   \n",
              "1    If you are a good man, you will be a good ma...   YES   \n",
              "2  Those who are wise must not be taken in by the...   YES   \n",
              "3  The world is governed by the same laws that go...    NO   \n",
              "4    The man who is wise in council, but a fool i...   YES   \n",
              "\n",
              "                          moral_generated_randomseed m2_a1 m1_a2 m2_a2  \n",
              "0    We are not to be too hard on those who trans...    NO   NaN   NaN  \n",
              "1    If you can’t do a kind act, do the next best...    NO   NaN   NaN  \n",
              "2                 A fool is often wiser than a sage.   YES   NaN   NaN  \n",
              "3  The end of all quarrels is that they produce m...   YES   NaN   NaN  \n",
              "4  The man who is to execute an idea must have co...   YES   NaN   NaN  "
            ],
            "text/html": [
              "\n",
              "  <div id=\"df-609a863d-403d-4060-aee9-b6d3cfd753ad\">\n",
              "    <div class=\"colab-df-container\">\n",
              "      <div>\n",
              "<style scoped>\n",
              "    .dataframe tbody tr th:only-of-type {\n",
              "        vertical-align: middle;\n",
              "    }\n",
              "\n",
              "    .dataframe tbody tr th {\n",
              "        vertical-align: top;\n",
              "    }\n",
              "\n",
              "    .dataframe thead th {\n",
              "        text-align: right;\n",
              "    }\n",
              "</style>\n",
              "<table border=\"1\" class=\"dataframe\">\n",
              "  <thead>\n",
              "    <tr style=\"text-align: right;\">\n",
              "      <th></th>\n",
              "      <th>text</th>\n",
              "      <th>moral_generated_goodseed</th>\n",
              "      <th>m1_a1</th>\n",
              "      <th>moral_generated_randomseed</th>\n",
              "      <th>m2_a1</th>\n",
              "      <th>m1_a2</th>\n",
              "      <th>m2_a2</th>\n",
              "    </tr>\n",
              "  </thead>\n",
              "  <tbody>\n",
              "    <tr>\n",
              "      <th>0</th>\n",
              "      <td>There was once a tailor, who was a quarrelsome...</td>\n",
              "      <td>We should not beat our wives, but should rat...</td>\n",
              "      <td>YES</td>\n",
              "      <td>We are not to be too hard on those who trans...</td>\n",
              "      <td>NO</td>\n",
              "      <td>NaN</td>\n",
              "      <td>NaN</td>\n",
              "    </tr>\n",
              "    <tr>\n",
              "      <th>1</th>\n",
              "      <td>In the days of yore, the proprietors of Colzea...</td>\n",
              "      <td>If you are a good man, you will be a good ma...</td>\n",
              "      <td>YES</td>\n",
              "      <td>If you can’t do a kind act, do the next best...</td>\n",
              "      <td>NO</td>\n",
              "      <td>NaN</td>\n",
              "      <td>NaN</td>\n",
              "    </tr>\n",
              "    <tr>\n",
              "      <th>2</th>\n",
              "      <td>A fool, in town, did wisdom cry;The people, ea...</td>\n",
              "      <td>Those who are wise must not be taken in by the...</td>\n",
              "      <td>YES</td>\n",
              "      <td>A fool is often wiser than a sage.</td>\n",
              "      <td>YES</td>\n",
              "      <td>NaN</td>\n",
              "      <td>NaN</td>\n",
              "    </tr>\n",
              "    <tr>\n",
              "      <th>3</th>\n",
              "      <td>In mansion deck’d with frieze and column,Dwelt...</td>\n",
              "      <td>The world is governed by the same laws that go...</td>\n",
              "      <td>NO</td>\n",
              "      <td>The end of all quarrels is that they produce m...</td>\n",
              "      <td>YES</td>\n",
              "      <td>NaN</td>\n",
              "      <td>NaN</td>\n",
              "    </tr>\n",
              "    <tr>\n",
              "      <th>4</th>\n",
              "      <td>Old Rodilard, a certain cat,Such havoc of the ...</td>\n",
              "      <td>The man who is wise in council, but a fool i...</td>\n",
              "      <td>YES</td>\n",
              "      <td>The man who is to execute an idea must have co...</td>\n",
              "      <td>YES</td>\n",
              "      <td>NaN</td>\n",
              "      <td>NaN</td>\n",
              "    </tr>\n",
              "  </tbody>\n",
              "</table>\n",
              "</div>\n",
              "      <button class=\"colab-df-convert\" onclick=\"convertToInteractive('df-609a863d-403d-4060-aee9-b6d3cfd753ad')\"\n",
              "              title=\"Convert this dataframe to an interactive table.\"\n",
              "              style=\"display:none;\">\n",
              "        \n",
              "  <svg xmlns=\"http://www.w3.org/2000/svg\" height=\"24px\"viewBox=\"0 0 24 24\"\n",
              "       width=\"24px\">\n",
              "    <path d=\"M0 0h24v24H0V0z\" fill=\"none\"/>\n",
              "    <path d=\"M18.56 5.44l.94 2.06.94-2.06 2.06-.94-2.06-.94-.94-2.06-.94 2.06-2.06.94zm-11 1L8.5 8.5l.94-2.06 2.06-.94-2.06-.94L8.5 2.5l-.94 2.06-2.06.94zm10 10l.94 2.06.94-2.06 2.06-.94-2.06-.94-.94-2.06-.94 2.06-2.06.94z\"/><path d=\"M17.41 7.96l-1.37-1.37c-.4-.4-.92-.59-1.43-.59-.52 0-1.04.2-1.43.59L10.3 9.45l-7.72 7.72c-.78.78-.78 2.05 0 2.83L4 21.41c.39.39.9.59 1.41.59.51 0 1.02-.2 1.41-.59l7.78-7.78 2.81-2.81c.8-.78.8-2.07 0-2.86zM5.41 20L4 18.59l7.72-7.72 1.47 1.35L5.41 20z\"/>\n",
              "  </svg>\n",
              "      </button>\n",
              "      \n",
              "  <style>\n",
              "    .colab-df-container {\n",
              "      display:flex;\n",
              "      flex-wrap:wrap;\n",
              "      gap: 12px;\n",
              "    }\n",
              "\n",
              "    .colab-df-convert {\n",
              "      background-color: #E8F0FE;\n",
              "      border: none;\n",
              "      border-radius: 50%;\n",
              "      cursor: pointer;\n",
              "      display: none;\n",
              "      fill: #1967D2;\n",
              "      height: 32px;\n",
              "      padding: 0 0 0 0;\n",
              "      width: 32px;\n",
              "    }\n",
              "\n",
              "    .colab-df-convert:hover {\n",
              "      background-color: #E2EBFA;\n",
              "      box-shadow: 0px 1px 2px rgba(60, 64, 67, 0.3), 0px 1px 3px 1px rgba(60, 64, 67, 0.15);\n",
              "      fill: #174EA6;\n",
              "    }\n",
              "\n",
              "    [theme=dark] .colab-df-convert {\n",
              "      background-color: #3B4455;\n",
              "      fill: #D2E3FC;\n",
              "    }\n",
              "\n",
              "    [theme=dark] .colab-df-convert:hover {\n",
              "      background-color: #434B5C;\n",
              "      box-shadow: 0px 1px 3px 1px rgba(0, 0, 0, 0.15);\n",
              "      filter: drop-shadow(0px 1px 2px rgba(0, 0, 0, 0.3));\n",
              "      fill: #FFFFFF;\n",
              "    }\n",
              "  </style>\n",
              "\n",
              "      <script>\n",
              "        const buttonEl =\n",
              "          document.querySelector('#df-609a863d-403d-4060-aee9-b6d3cfd753ad button.colab-df-convert');\n",
              "        buttonEl.style.display =\n",
              "          google.colab.kernel.accessAllowed ? 'block' : 'none';\n",
              "\n",
              "        async function convertToInteractive(key) {\n",
              "          const element = document.querySelector('#df-609a863d-403d-4060-aee9-b6d3cfd753ad');\n",
              "          const dataTable =\n",
              "            await google.colab.kernel.invokeFunction('convertToInteractive',\n",
              "                                                     [key], {});\n",
              "          if (!dataTable) return;\n",
              "\n",
              "          const docLinkHtml = 'Like what you see? Visit the ' +\n",
              "            '<a target=\"_blank\" href=https://colab.research.google.com/notebooks/data_table.ipynb>data table notebook</a>'\n",
              "            + ' to learn more about interactive tables.';\n",
              "          element.innerHTML = '';\n",
              "          dataTable['output_type'] = 'display_data';\n",
              "          await google.colab.output.renderOutput(dataTable, element);\n",
              "          const docLink = document.createElement('div');\n",
              "          docLink.innerHTML = docLinkHtml;\n",
              "          element.appendChild(docLink);\n",
              "        }\n",
              "      </script>\n",
              "    </div>\n",
              "  </div>\n",
              "  "
            ]
          },
          "metadata": {},
          "execution_count": 81
        }
      ]
    },
    {
      "cell_type": "code",
      "source": [
        "ft_agree_yes_m1 = ft[(ft['m1_a1'] == 'YES') & (ft['m1_a2'] == 'YES')]\n",
        "ft_agree_yes_m2 = ft[(ft['m2_a1'] == 'YES') & (ft['m2_a2'] == 'YES')]\n",
        "ft_agree_no_m2 = ft[(ft['m2_a1'] == 'NO') & (ft['m2_a2'] == 'NO')]\n",
        "ft_agree_no_m2 = ft[(ft['m2_a1'] == 'NO') & (ft['m2_a2'] == 'NO')]"
      ],
      "metadata": {
        "id": "9VyQSclj2b3h"
      },
      "execution_count": null,
      "outputs": []
    },
    {
      "cell_type": "code",
      "source": [
        "ft_agree_yes_m1.head()"
      ],
      "metadata": {
        "colab": {
          "base_uri": "https://localhost:8080/",
          "height": 49
        },
        "id": "6UjIgz5N3cnr",
        "outputId": "34c04fd9-eea1-430e-c1b9-d65e5c02d0f2"
      },
      "execution_count": null,
      "outputs": [
        {
          "output_type": "execute_result",
          "data": {
            "text/plain": [
              "Empty DataFrame\n",
              "Columns: [text, moral_generated_goodseed, m1_a1, moral_generated_randomseed, m2_a1, m1_a2, m2_a2]\n",
              "Index: []"
            ],
            "text/html": [
              "\n",
              "  <div id=\"df-a9207237-44ff-4aad-a7bc-6a43cc4b8ee5\">\n",
              "    <div class=\"colab-df-container\">\n",
              "      <div>\n",
              "<style scoped>\n",
              "    .dataframe tbody tr th:only-of-type {\n",
              "        vertical-align: middle;\n",
              "    }\n",
              "\n",
              "    .dataframe tbody tr th {\n",
              "        vertical-align: top;\n",
              "    }\n",
              "\n",
              "    .dataframe thead th {\n",
              "        text-align: right;\n",
              "    }\n",
              "</style>\n",
              "<table border=\"1\" class=\"dataframe\">\n",
              "  <thead>\n",
              "    <tr style=\"text-align: right;\">\n",
              "      <th></th>\n",
              "      <th>text</th>\n",
              "      <th>moral_generated_goodseed</th>\n",
              "      <th>m1_a1</th>\n",
              "      <th>moral_generated_randomseed</th>\n",
              "      <th>m2_a1</th>\n",
              "      <th>m1_a2</th>\n",
              "      <th>m2_a2</th>\n",
              "    </tr>\n",
              "  </thead>\n",
              "  <tbody>\n",
              "  </tbody>\n",
              "</table>\n",
              "</div>\n",
              "      <button class=\"colab-df-convert\" onclick=\"convertToInteractive('df-a9207237-44ff-4aad-a7bc-6a43cc4b8ee5')\"\n",
              "              title=\"Convert this dataframe to an interactive table.\"\n",
              "              style=\"display:none;\">\n",
              "        \n",
              "  <svg xmlns=\"http://www.w3.org/2000/svg\" height=\"24px\"viewBox=\"0 0 24 24\"\n",
              "       width=\"24px\">\n",
              "    <path d=\"M0 0h24v24H0V0z\" fill=\"none\"/>\n",
              "    <path d=\"M18.56 5.44l.94 2.06.94-2.06 2.06-.94-2.06-.94-.94-2.06-.94 2.06-2.06.94zm-11 1L8.5 8.5l.94-2.06 2.06-.94-2.06-.94L8.5 2.5l-.94 2.06-2.06.94zm10 10l.94 2.06.94-2.06 2.06-.94-2.06-.94-.94-2.06-.94 2.06-2.06.94z\"/><path d=\"M17.41 7.96l-1.37-1.37c-.4-.4-.92-.59-1.43-.59-.52 0-1.04.2-1.43.59L10.3 9.45l-7.72 7.72c-.78.78-.78 2.05 0 2.83L4 21.41c.39.39.9.59 1.41.59.51 0 1.02-.2 1.41-.59l7.78-7.78 2.81-2.81c.8-.78.8-2.07 0-2.86zM5.41 20L4 18.59l7.72-7.72 1.47 1.35L5.41 20z\"/>\n",
              "  </svg>\n",
              "      </button>\n",
              "      \n",
              "  <style>\n",
              "    .colab-df-container {\n",
              "      display:flex;\n",
              "      flex-wrap:wrap;\n",
              "      gap: 12px;\n",
              "    }\n",
              "\n",
              "    .colab-df-convert {\n",
              "      background-color: #E8F0FE;\n",
              "      border: none;\n",
              "      border-radius: 50%;\n",
              "      cursor: pointer;\n",
              "      display: none;\n",
              "      fill: #1967D2;\n",
              "      height: 32px;\n",
              "      padding: 0 0 0 0;\n",
              "      width: 32px;\n",
              "    }\n",
              "\n",
              "    .colab-df-convert:hover {\n",
              "      background-color: #E2EBFA;\n",
              "      box-shadow: 0px 1px 2px rgba(60, 64, 67, 0.3), 0px 1px 3px 1px rgba(60, 64, 67, 0.15);\n",
              "      fill: #174EA6;\n",
              "    }\n",
              "\n",
              "    [theme=dark] .colab-df-convert {\n",
              "      background-color: #3B4455;\n",
              "      fill: #D2E3FC;\n",
              "    }\n",
              "\n",
              "    [theme=dark] .colab-df-convert:hover {\n",
              "      background-color: #434B5C;\n",
              "      box-shadow: 0px 1px 3px 1px rgba(0, 0, 0, 0.15);\n",
              "      filter: drop-shadow(0px 1px 2px rgba(0, 0, 0, 0.3));\n",
              "      fill: #FFFFFF;\n",
              "    }\n",
              "  </style>\n",
              "\n",
              "      <script>\n",
              "        const buttonEl =\n",
              "          document.querySelector('#df-a9207237-44ff-4aad-a7bc-6a43cc4b8ee5 button.colab-df-convert');\n",
              "        buttonEl.style.display =\n",
              "          google.colab.kernel.accessAllowed ? 'block' : 'none';\n",
              "\n",
              "        async function convertToInteractive(key) {\n",
              "          const element = document.querySelector('#df-a9207237-44ff-4aad-a7bc-6a43cc4b8ee5');\n",
              "          const dataTable =\n",
              "            await google.colab.kernel.invokeFunction('convertToInteractive',\n",
              "                                                     [key], {});\n",
              "          if (!dataTable) return;\n",
              "\n",
              "          const docLinkHtml = 'Like what you see? Visit the ' +\n",
              "            '<a target=\"_blank\" href=https://colab.research.google.com/notebooks/data_table.ipynb>data table notebook</a>'\n",
              "            + ' to learn more about interactive tables.';\n",
              "          element.innerHTML = '';\n",
              "          dataTable['output_type'] = 'display_data';\n",
              "          await google.colab.output.renderOutput(dataTable, element);\n",
              "          const docLink = document.createElement('div');\n",
              "          docLink.innerHTML = docLinkHtml;\n",
              "          element.appendChild(docLink);\n",
              "        }\n",
              "      </script>\n",
              "    </div>\n",
              "  </div>\n",
              "  "
            ]
          },
          "metadata": {},
          "execution_count": 78
        }
      ]
    },
    {
      "cell_type": "code",
      "source": [
        "out1 = ft_agree_yes_m1.to_csv('ft_agree_yes_m1.csv')\n",
        "out2 = ft_agree_yes_m2.to_csv('ft_agree_yes_m2.csv')\n",
        "ft_agree_no_m2"
      ],
      "metadata": {
        "id": "a2xaXYLA3KTo"
      },
      "execution_count": null,
      "outputs": []
    }
  ]
}